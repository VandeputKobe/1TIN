{
 "cells": [
  {
   "cell_type": "markdown",
   "metadata": {},
   "source": [
    "# Oefeningen Hoofdstuk 5: Functies"
   ]
  },
  {
   "cell_type": "markdown",
   "metadata": {},
   "source": [
    "**Oefening 5.1**\n",
    "\n",
    "Een bankbediende wenst snel te kunnen uitrekenen hoeveel de waarde van een bepaald bedrag in euro is in US dollar. Aan het begin van het programma geeft hij de waarde van de euro in t.o.v. de US dollar, vb. 1 euro = 1,072 US dollar (1,072 wordt ingevoerd). Vervolgens worden bedragen in euro ingevoerd, waarna de waarde in US dollar getoond wordt. De omzetting gebeurt via een functie.  Het programma eindigt als voor het bedrag in euro 0 wordt ingevoerd."
   ]
  },
  {
   "cell_type": "markdown",
   "metadata": {},
   "source": [
    "<pre>\n",
    "geef wisselkoers in: <span style=\"color:blue\">1.072</span>\n",
    "geef het om te zetten bedrag in euro in: <span style=\"color:blue\">100</span>\n",
    "bedrag in dollar is 107.2\n",
    "geef het om te zetten bedrag in euro in: <span style=\"color:blue\">50</span>\n",
    "bedrag in dollar is 53.6\n",
    "geef het om te zetten bedrag in euro in: <span style=\"color:blue\">0</span>\n",
    "\n",
    "</pre>"
   ]
  },
  {
   "cell_type": "markdown",
   "metadata": {},
   "source": [
    "**Oefening 5.2**\n",
    "\n",
    "Schrijf een functie die teruggeeft of een bepaald jaartal een schrikkeljaar is of niet. Een\n",
    "schrikkeljaar is deelbaar door 4, maar niet deelbaar door 100. Indien het jaar deelbaar is door\n",
    "400 dan is het weer wel een schrikkeljaar. Zorg ervoor dat het resultaat een boolean is."
   ]
  },
  {
   "cell_type": "markdown",
   "metadata": {},
   "source": [
    "<pre>\n",
    "geef het jaar in: <span style=\"color:blue\">2023</span>\n",
    "Is dit een schrikkeljaar? False\n",
    "\n",
    "geef het jaar in: <span style=\"color:blue\">1920</span>\n",
    "Is dit een schrikkeljaar? True\n",
    "\n",
    "geef het jaar in: <span style=\"color:blue\">1600</span>\n",
    "Is dit een schrikkeljaar? True\n",
    "\n",
    "</pre>"
   ]
  },
  {
   "cell_type": "markdown",
   "metadata": {},
   "source": [
    "**Oefening 5.3**\n",
    "\n",
    "Schrijf een programma om het lidgeld voor een tennisclub te berekenen. Voor elk lid worden volgende gegevens via het toetsenbord ingevoerd: naam, leeftijd, aantal kinderen ten laste, inkomen en het aansluitingsjaar. De invoer eindigt wanneer voor de naam X of x wordt ingegeven.\n",
    "\n",
    "Per lid moet de naam en het lidgeld afgedrukt worden.\n",
    "Het lidgeld wordt als volgt berekend:\n",
    "+ normaal aanvangsgeld 100 € per jaar;\n",
    "+ leden ouder dan 60 jaar: een vermindering van 15 €;\n",
    "+ leden met kinderen een vermindering van 7.5 € per kind met een maximum van 35 €;\n",
    "+ leden die meer dan 20 jaar lid zijn een vermindering van 12.5 €;\n",
    "+ leden met een inkomen kleiner dan 7500 € per jaar een vermindering van 25 €.\n",
    "\n",
    "De verminderingen mogen gecumuleerd worden maar het minimum lidgeld is 50 €.\n",
    "De berekening van het lidgeld gebeurt in een functie.\n"
   ]
  },
  {
   "cell_type": "markdown",
   "metadata": {},
   "source": [
    "<pre>\n",
    "\n",
    "Geef de naam in: <span style=\"color:blue\">jean</span>\n",
    "Geef de leeftijd in: <span style=\"color:blue\">65</span>\n",
    "Geef het aantal kinderen in: <span style=\"color:blue\">3</span>\n",
    "Geef het inkomen in: <span style=\"color:blue\">6500</span>\n",
    "Geef het aansluitingsjaar in: <span style=\"color:blue\">2000</span>\n",
    "voor jean bedraagt het lidgeld 50\n",
    "Geef de naam in: <span style=\"color:blue\">piet</span>\n",
    "Geef de leeftijd in: <span style=\"color:blue\">44</span>\n",
    "Geef het aantal kinderen in: <span style=\"color:blue\">2</span>\n",
    "Geef het inkomen in: <span style=\"color:blue\">10000</span>\n",
    "Geef het aansluitingsjaar in: <span style=\"color:blue\">2020</span>\n",
    "voor piet bedraagt het lidgeld 85.0\n",
    "Geef de naam in: <span style=\"color:blue\">elsa</span>\n",
    "Geef de leeftijd in: <span style=\"color:blue\">50</span>\n",
    "Geef het aantal kinderen in: <span style=\"color:blue\">5</span>\n",
    "Geef het inkomen in: <span style=\"color:blue\">8000</span>\n",
    "Geef het aansluitingsjaar in: <span style=\"color:blue\">2010</span>\n",
    "voor elsa bedraagt het lidgeld 65\n",
    "Geef de naam in: <span style=\"color:blue\">X</span>\n",
    "\n",
    "</pre>"
   ]
  },
  {
   "cell_type": "markdown",
   "metadata": {},
   "source": [
    "**Oefening 5.4**\n",
    "\n",
    "Er wordt een willekeurig geheel getal gegenereerd tussen 1 en 10 (grenzen inclusief) waarna de gebruiker dit mag proberen te raden. De computer geeft feedback: “hoger”, “lager” of “proficiat, getal geraden”. Maak voor het geven van de feedback gebruik van een functie. De speler mag slechts 4 keer raden!\n",
    "Het spel stopt als het getal geraden is, of als de 4 beurten om zijn."
   ]
  },
  {
   "cell_type": "markdown",
   "metadata": {},
   "source": [
    "<pre>\n",
    "Testoutput 1:\n",
    "Geef een getal in: <span style=\"color:blue\">1</span>\n",
    "hoger\n",
    "Geef een getal in: <span style=\"color:blue\">2</span>\n",
    "hoger\n",
    "Geef een getal in: <span style=\"color:blue\">8</span>\n",
    "lager\n",
    "Geef een getal in: <span style=\"color:blue\">7</span>\n",
    "je 4 beurten zijn voorbij\n",
    "\n",
    "Testoutput 2:\n",
    "Geef een getal in: <span style=\"color:blue\">2</span>\n",
    "hoger\n",
    "Geef een getal in: <span style=\"color:blue\">7</span>\n",
    "proficiat, het getal is geraden\n",
    "\n",
    "</pre>"
   ]
  },
  {
   "cell_type": "markdown",
   "metadata": {},
   "source": [
    "**Oefening 5.5**\n",
    "\n",
    "Een studentenvereniging heeft aan zijn leden een lidnummer gegeven.\n",
    "Dit lidnummer bestaat uit 7 cijfers (dit is geen String en hierop moet je geen controle uitvoeren).\n",
    "Wanneer het getal bestaande uit het 2de en het 4de cijfer gelijk is aan de 2 laatste cijfers dan mag de student gratis binnen op een fuif.\n",
    "\n",
    "Schrijf hiervoor een functie controleer. Deze functie heeft een lidnummer als invoerparameter en geeft \"gratis\" of \"niet gratis\" als uitvoer.\n",
    "\n",
    "Voorbeeld: 1734568. Hier is het getal gevormd door het 2de en 4de cijfer (=74) niet gelijk aan het getal gevormd door de 2 laatste cijfers (=68). Dit lid moet inkom betalen.\n"
   ]
  },
  {
   "cell_type": "markdown",
   "metadata": {},
   "source": [
    "<pre>\n",
    "Testoutput 1:\n",
    "geef een nummer bestaande uit 7 cijfers in: <span style=\"color:blue\">1734568</span>\n",
    "niet gratis\n",
    "\n",
    "Testoutput2:\n",
    "geef een nummer bestaande uit 7 cijfers in: <span style=\"color:blue\">3456746</span>\n",
    "gratis\n",
    "\n",
    "</pre>"
   ]
  },
  {
   "cell_type": "markdown",
   "metadata": {},
   "source": [
    "**Oefening 5.6**\n",
    "\n",
    "Schrijf een programma om huiswerk te genereren voor kinderen van het eerste leerjaar.\n",
    "We gaan ervan uit dat ze kunnen tellen tot 20. Het huiswerk gaat over het inoefenen van de bewerking aftrekking. Om de kinderen niet in de war te brengen zorgen we dat enkel oefeningen waarvan het resultaat groter of gelijk is aan nul als output worden gegenereerd.\n",
    "Er worden verschillende reeksen gemaakt. Reeks 1, reeks 2 tot en met reeks 5. Elke reeks bevat 5 oefeningen.\n",
    "De output moet als volgt eruit zien:\n",
    "``` \n",
    "reeks 1\n",
    "1) 11 – 2 =\n",
    "2) 20 – 9 =\n",
    "3) 2 – 0 =\n",
    "4) 14 – 11 =\n",
    "5) 5 – 5 =\n",
    "\n",
    "reeks 2\n",
    "…\n",
    "```"
   ]
  },
  {
   "cell_type": "markdown",
   "metadata": {},
   "source": [
    "**Oefening 5.7**\n",
    "\n",
    "In een bibliotheek wordt een programma gebruikt om de boete te bepalen voor het verstrijken van de uitleentermijn.\n",
    "Per bibliotheekgebruiker (die de termijn overschrijdt) geeft men via het toetsenbord in: zijn naam (‘xx’ om te eindigen), het aantal boeken, het aantal dagen dat de uitleentermijn overschreden is.\n",
    "De boete bedraagt 0,07 euro per boek per dag.  Bovendien wordt automatisch vanaf de 45ste dag dat de termijn overschreden werd een aanmaningsbrief opgestuurd, die 0,84 euro kost. De kosten voor het versturen van de aanmaningsbrief worden bij de boete opgeteld.\n",
    "De berekening van de boete gebeurt in een functie. \n",
    "Per persoon wordt de boete afgedrukt.\n",
    "De bibliotheek wenst eveneens te weten hoeveel aanmaningsbrieven er verstuurd werden."
   ]
  },
  {
   "cell_type": "markdown",
   "metadata": {},
   "source": [
    "<pre>\n",
    "Geef de naam in: <span style=\"color:blue\">jan</span>\n",
    "Geef het aantal boeken in: <span style=\"color:blue\">2</span>\n",
    "Geef het aantal dagen te laat in: <span style=\"color:blue\">50</span>\n",
    "jan heeft een boete van 7.840000000000001 euro\n",
    "Geef de naam in: <span style=\"color:blue\">piet</span>\n",
    "Geef het aantal boeken in: <span style=\"color:blue\">10</span>\n",
    "Geef het aantal dagen te laat in: <span style=\"color:blue\">10</span>\n",
    "piet heeft een boete van 7.000000000000001 euro\n",
    "Geef de naam in: <span style=\"color:blue\">xx</span>\n",
    "aantal aanmaningsbrieven 1\n",
    "\n",
    "</pre>"
   ]
  },
  {
   "cell_type": "markdown",
   "metadata": {},
   "source": [
    "**Oefening 5.8**\n",
    "\n",
    "Een schoonmaakbedrijf wenst snel te kunnen uitrekenen hoeveel euro ze zullen aanrekenen voor het schoonmaken van een in te geven oppervlakte. Er wordt als volgt gerekend: \n",
    "+ 1 persoon kan op 1 uur tijd $160 m^²$ vloer poetsen\n",
    "+ 1 persoon kan maximaal 8 uur per dag werken\n",
    "+ 1 uur wordt doorgerekend aan 12,5 euro.\n",
    "\n",
    "*Gevraagd:* het aantal schoon te maken $m^²$ wordt ingevoerd, waarna de kostprijs (berekend via een functie) en het aantal personen dat deze oppervlakte op 1 dag schoonmaakt (berekend via een functie) wordt afgedrukt. \n",
    "\n",
    "Per persoon wordt vermeld hoeveel uren hij zal moeten werken (vb 3 personen werken 8 uur, 1 persoon werkt 3,5 uur).\n",
    "Dit programma eindigt bij ingave van “0” als schoon te maken oppervlakte.\n",
    "\n",
    "*Uitbreiding:* elk begonnen uur wordt als een volledig uur aangerekend.\n"
   ]
  },
  {
   "cell_type": "markdown",
   "metadata": {},
   "source": [
    "<pre>\n",
    "Geef het aantal m2 dat gekuist moet worden <span style=\"color:blue\">250.6</span>\n",
    "het kuisen van deze oppervlakte kost 19.578125 euro\n",
    "1 persoon werkt 1.56625 uur\n",
    "Geef het aantal m2 dat gekuist moet worden <span style=\"color:blue\">1200.66</span>\n",
    "het kuisen van deze oppervlakte kost 93.8015625 euro\n",
    "1 persoon werkt 7.504125 uur\n",
    "Geef het aantal m2 dat gekuist moet worden <span style=\"color:blue\">8888</span>\n",
    "het kuisen van deze oppervlakte kost 694.375 euro\n",
    "6 personen werken 8 uur\n",
    "1 persoon werkt 7.549999999999997 uur\n",
    "Geef het aantal m2 dat gekuist moet worden <span style=\"color:blue\">0</span>\n",
    "\n",
    "Uitbreiding:\n",
    "Geef het aantal m2 dat gekuist moet worden <span style=\"color:blue\">250.6</span>\n",
    "het kuisen van deze oppervlakte kost 25.0 euro\n",
    "1 persoon werkt 1.56625 uur\n",
    "Geef het aantal m2 dat gekuist moet worden <span style=\"color:blue\">1200.66</span>\n",
    "het kuisen van deze oppervlakte kost 100.0 euro\n",
    "1 persoon werkt 7.504125 uur\n",
    "Geef het aantal m2 dat gekuist moet worden <span style=\"color:blue\">8888</span>\n",
    "het kuisen van deze oppervlakte kost 700.0 euro\n",
    "6 personen werken 8 uur\n",
    "1 persoon werkt 7.549999999999997 uur\n",
    "Geef het aantal m2 dat gekuist moet worden <span style=\"color:blue\">0</span>\n",
    "\n",
    "</pre>"
   ]
  },
  {
   "cell_type": "markdown",
   "metadata": {},
   "source": [
    "**Oefening 5.9**\n",
    "\n",
    "We maken enkele functies die we kunnen gebruiken om onze reiskosten te berekenen:\n",
    "\n",
    "De eerste functie *hotel_kosten* heeft 1 parameter aantal_nachten. Het hotel kost € 140,50 per nacht.\n",
    "Iedere 3de nacht is gratis. \n",
    "\n",
    "Vervolgens maken we een functie *vliegtuig_kosten* waaraan we een string, stad, als argument meegeven.\n",
    "De functie geeft de prijs voor de heen- en terugreis afhankelijk van de locatie. Hieronder vind je de geldige bestemmingen en hun overeenkomstige prijzen (de prijzen zijn voor heen- en terugvlucht):\n",
    "+ Barcelona: 183\n",
    "+ Rome: 220\n",
    "+ Berlijn: 125\n",
    "+ Oslo: 450\n",
    "\n",
    "Maak daarna een functie *huurauto_kosten*. Deze functie voorziet 1 parameter: aantal_dagen.\n",
    "Bereken de kost voor het huren van een auto: de huurkost bedraagt €40 per dag.\n",
    "Indien je de auto meer dan 7 dagen huurt, krijg je €50 korting. Voor meer dan 3 dagen krijg je €20 korting.\n",
    "\n",
    "Tenslotte maak je een functie met de naam *reis_kosten*, de functie wordt aangeroepen met twee argumenten: stad en aantal_dagen. De functie *reis_kosten* geeft je de totale prijs van je reis (autoverhuur, hotelkosten en vluchten). Je kan de functie enkel aanroepen met 1 van bovenstaande steden, anders geef je een foutboodschap aan de gebruiker.\n",
    "\n",
    "Test je programma grondig!"
   ]
  },
  {
   "cell_type": "markdown",
   "metadata": {},
   "source": [
    "<pre>\n",
    "Geef een reisbestemming in (Barcelona, Rome, Berlijn of Oslo): <span style=\"color:blue\">Barcelona</span>\n",
    "Geef het aantal dagen dat je in deze stad zal verbijven: <span style=\"color:blue\">10</span>\n",
    "De kostprijs van deze reis naar Barcelona bedraagt 1376.0 euro\n",
    "\n",
    "Geef een reisbestemming in (Barcelona, Rome, Berlijn of Oslo): <span style=\"color:blue\">Oslo</span>\n",
    "Geef het aantal dagen dat je in deze stad zal verbijven: <span style=\"color:blue\">8</span>\n",
    "De kostprijs van deze reis naar Oslo bedraagt 1422.5 euro\n",
    "\n",
    "</pre>"
   ]
  }
 ],
 "metadata": {
  "kernelspec": {
   "display_name": "Python 3 (ipykernel)",
   "language": "python",
   "name": "python3"
  },
  "language_info": {
   "codemirror_mode": {
    "name": "ipython",
    "version": 3
   },
   "file_extension": ".py",
   "mimetype": "text/x-python",
   "name": "python",
   "nbconvert_exporter": "python",
   "pygments_lexer": "ipython3",
   "version": "3.11.4"
  }
 },
 "nbformat": 4,
 "nbformat_minor": 1
}
