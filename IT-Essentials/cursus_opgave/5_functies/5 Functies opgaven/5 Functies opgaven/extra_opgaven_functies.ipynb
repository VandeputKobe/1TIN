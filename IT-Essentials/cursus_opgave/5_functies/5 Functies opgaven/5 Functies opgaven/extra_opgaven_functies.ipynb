{
 "cells": [
  {
   "cell_type": "markdown",
   "metadata": {},
   "source": [
    "# Extra oefeningen Hoofdstuk 5: Functies"
   ]
  },
  {
   "cell_type": "markdown",
   "metadata": {},
   "source": [
    "**Oefening 5.1**\n",
    "\n",
    "De Gregory-Leibnitz reeks benadert de waarde van $\\pi$ door de berekening\n",
    "van $4 \\times(\\frac{1}{1} - \\frac{1}{3} + \\frac{1}{5} - \\frac{1}{7} + \\frac{1}{9}...)$. Schrijf een functie die $\\pi$ benadert via deze reeks.\n",
    "De functie krijgt één parameter, namelijk een integer die aangeeft hoeveel van de termen\n",
    "tussen de haakjes in de reeks berekend moeten worden. Het resultaat van print(bereken_pi(20)) is:"
   ]
  },
  {
   "cell_type": "markdown",
   "metadata": {},
   "source": [
    "<pre>\n",
    "3.09162380666784\n",
    "</pre>"
   ]
  },
  {
   "cell_type": "code",
   "execution_count": 3,
   "metadata": {},
   "outputs": [
    {
     "name": "stdout",
     "output_type": "stream",
     "text": [
      "3.09162380666784\n"
     ]
    }
   ],
   "source": [
    "getal = int(input(\"geef getal:\"))\n",
    "\n",
    "def bereken_pi(getal):\n",
    "    pi = 0\n",
    "    for i in range(getal):\n",
    "        pi += ((-1)**i)/(2*i+1)\n",
    "    pi *= 4\n",
    "    return pi\n",
    "\n",
    "print(bereken_pi(getal))"
   ]
  },
  {
   "cell_type": "markdown",
   "metadata": {},
   "source": [
    "**Oefening 5.2**\n",
    "\n",
    "Een museum beschikt over volgende gegevens van bezoekers: in_uur (uur van binnenkomen), in_min (minuten van binnenkomen), uit_uur (uur van verlaten van museum), uit_min (minuten van verlaten van het museum). \n",
    "\n",
    "Bv. Iemand komt om 14u35 het museum binnen en gaat om 15u12 buiten dan is in_uur=14, in_min=35 en uit_uur=15 en uit_min=12.\n",
    "Geef deze gegevens in via het toetsenbord. De invoer stopt als voor in_uur de waarde 0 wordt ingegeven.\n",
    "\n",
    "+ Zet het tijdstip van binnenkomen en tijdstip van buiten gaan om in minuten. Maak hierbij gebruik van een functie. Gebruik deze functie om de aanwezigheidsduur van de bezoeker in het museum te berekenen.\n",
    "+ Hoeveel bezoekers waren meer dan 1 uur binnen?\n",
    "+ Wat was de gemiddelde aanwezigheidsduur van de bezoekers? Deze gemiddelde aanwezigheidsduur moet afgedrukt worden in uren en minuten. Hiervoor moet je gebruik maken van een functie met als invoerparameter de gemiddelde aanwezigheidsduur uitgedrukt in minuten."
   ]
  },
  {
   "cell_type": "markdown",
   "metadata": {},
   "source": [
    "<pre>\n",
    "geef het uur van binnen komen <span style=\"color:blue\">14</span>\n",
    "geef de minuten van binnen komen <span style=\"color:blue\">35</span>\n",
    "geef het uur van weggaan <span style=\"color:blue\">15</span>\n",
    "geef de minuten van weggaan <span style=\"color:blue\">12</span>\n",
    "\n",
    "geef het uur van binnen komen <span style=\"color:blue\">8</span>\n",
    "geef de minuten van binnen komen <span style=\"color:blue\">10</span>\n",
    "geef het uur van weggaan <span style=\"color:blue\">10</span>\n",
    "geef de minuten van weggaan <span style=\"color:blue\">20</span>\n",
    "\n",
    "geef het uur van binnen komen <span style=\"color:blue\">12</span>\n",
    "geef de minuten van binnen komen <span style=\"color:blue\">0</span>\n",
    "geef het uur van weggaan <span style=\"color:blue\">16</span>\n",
    "geef de minuten van weggaan <span style=\"color:blue\">0</span>\n",
    "\n",
    "geef het uur van binnen komen <span style=\"color:blue\">0</span>\n",
    "\n",
    "er waren 2  bezoekers  meer dan 1 uur binnen\n",
    "gemiddelde duur binnen = 2.0 u 15.666666666666657 min\n",
    "\n",
    "</pre>"
   ]
  },
  {
   "cell_type": "code",
   "execution_count": 10,
   "metadata": {},
   "outputs": [
    {
     "name": "stdout",
     "output_type": "stream",
     "text": [
      "het aantal bezoeken langer dan een uur is 1\n",
      "gemiddelde bezoek tijd is 5 u 52 min\n"
     ]
    }
   ],
   "source": [
    "def start():\n",
    "    aantal = 0\n",
    "    aantal_bezoeken = 0\n",
    "    totaal_bezoek_tijd = 0\n",
    "    uur_binnen = int(input(\"geef het uur van binnen komen\"))\n",
    "\n",
    "    while uur_binnen != 0:\n",
    "        min_binnen = int(input(\"geef de minuten van binnen komen\"))\n",
    "        uur_buiten = int(input(\"geef het uur van buiten gaan\"))\n",
    "        min_buiten = int(input(\"geef de minuten van buiten gaan\"))\n",
    "        if uur_binnen == 0:\n",
    "            break\n",
    "        tijd_bezoek = bereken_bezoek_tijd(uur_binnen,min_binnen,uur_buiten,min_buiten)\n",
    "        if tijd_bezoek > 60:\n",
    "            aantal += 1\n",
    "        uur_binnen = int(input(\"geef het uur van binnen komen\"))\n",
    "        totaal_bezoek_tijd += tijd_bezoek\n",
    "        aantal_bezoeken += 1\n",
    "    \n",
    "    print(\"het aantal bezoeken langer dan een uur is\",aantal)\n",
    "    print(\"gemiddelde bezoek tijd is\",totaal_bezoek_tijd // 60,\"u\",totaal_bezoek_tijd % 60,\"min\")\n",
    "\n",
    "\n",
    "def bereken_bezoek_tijd(uur_binnen,min_binnen,uur_buiten,min_buiten):\n",
    "    tijd_binnen = uur_binnen * 60 + min_binnen\n",
    "    tijd_buiten = uur_buiten * 60 + min_buiten\n",
    "    tijd_bezoek = tijd_buiten - tijd_binnen\n",
    "    return tijd_bezoek\n",
    "\n",
    "start() "
   ]
  },
  {
   "cell_type": "markdown",
   "metadata": {},
   "source": [
    "**Oefening 5.3**\n",
    "\n",
    "Maak een functie perfect_getal die nagaat of een getal een perfect getal is.\n",
    "Een getal noemen we perfect als en slechts als het gelijk is aan de som van zijn delers (behalve het getal zelf).\n",
    "Bvb. 6 is een perfect getal want 6 = 3 + 2 + 1 (waar 3, 2 en 1 delers zijn van 6). \n",
    "\n",
    "*Invoerargument:* een getal\n",
    "\n",
    "*Uitvoer:* de tekst “perfect” als het een perfect getal is, anders de tekst “niet perfect”.\n",
    "+ Test je functie uit met een geheel getal >=1 en <=100. Maak hierbij gebruik van de ingebouwde functie randint uit de module random.\n",
    "+ Test je functie uit met een getal bestaande uit 4 cijfers waarbij elk cijfer >=1 en <=3. Voor het genereren van dit getal maak je een functie."
   ]
  },
  {
   "cell_type": "markdown",
   "metadata": {},
   "source": [
    "<pre>\n",
    "geef een geheel getal in <span style=\"color:blue\">6</span>\n",
    "Is 6 een perfect getal? True\n",
    "\n",
    "Is 54 een perfect getal? False\n",
    "\n",
    "Is 3221 een perfect getal? False\n",
    "\n",
    "</pre>"
   ]
  },
  {
   "cell_type": "code",
   "execution_count": 34,
   "metadata": {},
   "outputs": [
    {
     "name": "stdout",
     "output_type": "stream",
     "text": [
      "2233 is geen perfect getal\n"
     ]
    }
   ],
   "source": [
    "def perfect_getal(getal):\n",
    "    som = 0\n",
    "    for i in range(1,getal):\n",
    "        if getal % i == 0:\n",
    "            som += i\n",
    "    if som == getal:\n",
    "        return True\n",
    "    else:\n",
    "        return False\n",
    "    \n",
    "def geef_random_getal():\n",
    "    import random\n",
    "    random_getal = \"\"\n",
    "    for i in range(4):\n",
    "        getal = random.randint(1,3)\n",
    "        random_getal += str(getal)\n",
    "    return random_getal\n",
    "    \n",
    "def start():\n",
    "    random_getal = int(geef_random_getal())\n",
    "    if perfect_getal(random_getal):\n",
    "        print(random_getal,\"is een perfect getal\")\n",
    "    else:\n",
    "        print(random_getal,\"is geen perfect getal\")\n",
    "\n",
    "start()\n"
   ]
  },
  {
   "cell_type": "markdown",
   "metadata": {},
   "source": [
    "**Oefening 5.4**\n",
    "\n",
    "Bij een ongeval of wegens hoogdringend vervoer telefoneert men onmiddellijk naar de dienst 100.  Dit vervoer kost dan maximaal:\n",
    "+ voor een reanimatiewagen: vaste som van € 25, te verhogen met € 2,25 per km vanaf de 11de km en € 1,75 per km vanaf de 21ste km.\n",
    "+ voor een gewone ziekenwagen: vaste som van € 20, te verhogen met € 1,75 per km vanaf de 11de km en € 1,15 per km vanaf de 21ste km.\n",
    "\n",
    "Als lid van de Landelijke Bond der Mutualiteiten worden volgende bedragen teruggestort:\n",
    "+ Voor een reanimatiewagen: vaste som van € 15, te verhogen met € 1,5 per km vanaf de 11de km.\n",
    "+ Voor een gewone ziekenwagen: vaste som van € 10, te verhogen met € 1 per km vanaf de 11de km.\n",
    "\n",
    "Schrijf een programma dat een overzicht maakt van de vervoerskosten van de dienst 112. \n",
    "\n",
    "Volgende onderdelen dienen in het programma te zitten:\n",
    "\n",
    "Voor elk vervoerd slachtoffer dienen de volgende gegevens ingevoerd: \n",
    "+ naam van het slachtoffer (einde invoer naam=/)\n",
    "+ reanimatie- of ziekenwagen (R/Z)\n",
    "+ afstand in km\n",
    "+ lid mutualiteit (J/N)\n",
    "\n",
    "Per slachtoffer moet berekend worden: \n",
    "+ totale kostprijs van het vervoer\n",
    "+ korting door de mutualiteit\n",
    "+ netto te betalen bedrag\n",
    "\n",
    "Maak in je oplossing gebruik van functies.\n",
    "\n",
    "Je programma dient volgende uitvoer te voorzien:\n",
    "1.\tper slachtoffer: naam slachtoffer, totale kostprijs en netto kostprijs.\n",
    "2.\thet aantal vervoerde slachtoffers \n",
    "3.\thet percentage dat lid is van de mutualiteit, afgerond tot 2 decimalen (maak voor het afronden gebruik van een ingebouwde functie)"
   ]
  },
  {
   "cell_type": "markdown",
   "metadata": {},
   "source": [
    "<pre>\n",
    "Geef een naam in <span style=\"color:blue\">jan</span>\n",
    "Geef reanimatie- of ziekenwagen R/Z <span style=\"color:blue\">R</span>\n",
    "Geef de afstand in km <span style=\"color:blue\">15</span>\n",
    "Lid mutualiteit J/N <span style=\"color:blue\">N</span>\n",
    "jan totale kostprijs 36.25 netto kostprijs 36.25\n",
    "    \n",
    "Geef een naam in <span style=\"color:blue\">piet</span>\n",
    "Geef reanimatie- of ziekenwagen R/Z <span style=\"color:blue\">Z</span>\n",
    "Geef de afstand in km <span style=\"color:blue\">20</span>\n",
    "Lid mutualiteit J/N <span style=\"color:blue\">J</span>\n",
    "piet totale kostprijs 37.5 netto kostprijs 17.5\n",
    "    \n",
    "Geef een naam in <span style=\"color:blue\">els</span>\n",
    "Geef reanimatie- of ziekenwagen R/Z <span style=\"color:blue\">Z</span>\n",
    "Geef de afstand in km <span style=\"color:blue\">5</span>\n",
    "Lid mutualiteit J/N <span style=\"color:blue\">J</span>\n",
    "els totale kostprijs 20 netto kostprijs 10\n",
    "    \n",
    "Geef een naam in <span style=\"color:blue\">/</span>  \n",
    "het aantal vervoerde slachtoffers  3\n",
    "het percentage dat lid is van de mutualiteit 66.67\n",
    "\n",
    "</pre>"
   ]
  },
  {
   "cell_type": "code",
   "execution_count": 5,
   "metadata": {},
   "outputs": [
    {
     "name": "stdout",
     "output_type": "stream",
     "text": [
      "jan kost = 36.25 te betalen = 36.25\n",
      "piet kost = 37.5 te betalen = 17.5\n",
      "els kost = 20 te betalen = 10\n",
      "het aantal klanten is 3 het aantal leden is 2\n",
      "het percentage leden is 66.66666666666666 %\n"
     ]
    }
   ],
   "source": [
    "def bereken_kost(R_of_Z,afstand):\n",
    "    kost = 0\n",
    "    if R_of_Z == \"R\":\n",
    "        kost += 25\n",
    "        if afstand >= 11 and afstand <= 20:\n",
    "            kost += (afstand - 10)*2.25\n",
    "        elif afstand > 20:\n",
    "            kost += (10*2.25) + ((afstand - 20)*1.75)\n",
    "    elif R_of_Z == \"Z\":\n",
    "        kost += 20\n",
    "        if afstand >= 11 and afstand <= 20:\n",
    "            kost += (afstand - 10)*1.75\n",
    "        elif afstand > 20:\n",
    "            kost += (10*2.25) + ((afstand - 20)*1.15)\n",
    "    return kost\n",
    "\n",
    "def bereken_korting(R_of_Z,afstand):\n",
    "    korting = 0\n",
    "    if R_of_Z == \"R\":\n",
    "        korting += 15\n",
    "        if afstand >= 11:\n",
    "            korting += (afstand - 10)*1.5\n",
    "    elif R_of_Z == \"Z\":\n",
    "        korting += 10\n",
    "        if afstand >= 11:\n",
    "            korting += (afstand - 10)*1\n",
    "    return korting\n",
    "\n",
    "def start():\n",
    "    naam = input(\"geef je naam: \")\n",
    "    aantal = 0\n",
    "    aantal_lidmaatschap = 0\n",
    "    while naam != \"/\":\n",
    "        R_of_Z = input(\"reanimatie of ziekenwagen (R of Z):\")\n",
    "        afstand = int(input(\"geef de afstand in km:\"))\n",
    "        lidmaatschap = input(\"ben je lid van de mutualiteit (J of N):\")\n",
    "        kost = 0\n",
    "        kost = bereken_kost(R_of_Z,afstand)\n",
    "        korting = 0 \n",
    "        if lidmaatschap == \"J\":\n",
    "            korting = bereken_korting(R_of_Z,afstand)\n",
    "            aantal_lidmaatschap += 1\n",
    "        print(naam,\"kost =\",kost,\"te betalen =\",kost - korting)\n",
    "        naam = input(\"geef je naam: \")\n",
    "        aantal += 1\n",
    "    print(\"het aantal klanten is\",aantal,\"het aantal leden is\",aantal_lidmaatschap)\n",
    "    print(\"het percentage leden is\",aantal_lidmaatschap / aantal * 100,\"%\")\n",
    "\n",
    "start()\n",
    "    \n",
    "        \n",
    "    \n",
    "    "
   ]
  },
  {
   "cell_type": "markdown",
   "metadata": {},
   "source": [
    "**Oefening 5.5** \n",
    "\n",
    "Schrijf een programma voor het berekenen van het kindergeld dat een gezin krijgt. Via het toetsenbord wordt het aantal kinderen ingegeven. Per kind wordt de leeftijd en een code ingegeven. Deze code bevat de waarde “H” als het gaat om een kind met een handicap, anders geef je als code een lege string.\n",
    "De kinderbijslag wordt als volgt berekend:  \n",
    "\n",
    "\n",
    "Kinderen zonder handicap:\n",
    "Het basisbedrag voor kinderbijslag is 75 euro, voor elk volgend kind wordt dit verhoogd met 70 euro per voorgaand kind (zie voorbeeldoutput).\n",
    "\n",
    "Kinderen met handicap:\n",
    "Voor elk kind met een handicap, is het basisbedrag vastgelegd op 300 euro.\n",
    "\n",
    "voorbeeld:\n",
    "<pre>\n",
    "Kind 1: handicap  ==> basisbedrag = 300\n",
    "Kind 2: geen handicap ==> basisbedrag = 75 + 70 (want het is het 2de kind van het gezin)\n",
    "Kind 3: geen handicap ==> basisbedrag = 75 + 70 + 70 (want het is het 3de kind van het gezin)\n",
    "</pre>\n",
    "\n",
    "Ook worden 2 verhogingen van 25 euro toegekend, de eerste na de 6de verjaardag van elk kind, de tweede na de 12de verjaardag. Gebruik een functie voor de berekening van de kinderbijslag per kind.\n",
    "De totale kinderbijslag die het gezin zal ontvangen, moet worden afgedrukt.\n"
   ]
  },
  {
   "cell_type": "markdown",
   "metadata": {},
   "source": [
    "<pre>\n",
    "Geef het aantal kinderen in: <span style=\"color:blue\">3</span>\n",
    "Geef de leeftijd in: <span style=\"color:blue\">10</span>\n",
    "Geef de code in: <span style=\"color:blue\">H</span>\n",
    "Geef de leeftijd in: <span style=\"color:blue\">13</span>\n",
    "Geef de code in: <span style=\"color:blue\">  </span>\n",
    "Geef de leeftijd in: <span style=\"color:blue\">8</span>\n",
    "Geef de code in: <span style=\"color:blue\"> </span>\n",
    "\n",
    "De totale kinderbijslag bedraagt 760\n",
    "\n",
    "</pre>"
   ]
  },
  {
   "cell_type": "code",
   "execution_count": 14,
   "metadata": {},
   "outputs": [
    {
     "name": "stdout",
     "output_type": "stream",
     "text": [
      "Het totaal bedrag van de bijslag is 760\n"
     ]
    }
   ],
   "source": [
    "def bereken_bijslag(leeftijd, hoeveelste_kind, handicap):\n",
    "    if handicap == \"H\":   # kind met handicap\n",
    "        bijslag = 300 + hoeveelste_kind * 70\n",
    "    else:                 # kind zonder handicap\n",
    "        bijslag = 75 + hoeveelste_kind * 70\n",
    "\n",
    "    # Leeftijdsverhoging\n",
    "    if leeftijd >= 12:\n",
    "        bijslag += 50\n",
    "    elif leeftijd >= 6:\n",
    "        bijslag += 25\n",
    "\n",
    "    return bijslag\n",
    "\n",
    "\n",
    "def start():\n",
    "    totaal = 0\n",
    "    aantal_kinderen = int(input(\"Geef het aantal kinderen: \"))\n",
    "\n",
    "    for i in range(aantal_kinderen):\n",
    "        leeftijd = int(input(f\"Geef de leeftijd van kind {i+1}: \"))\n",
    "        code = input(f\"Geef de code voor kind {i+1} (H voor handicap, anders leeg): \")\n",
    "        bijslag = bereken_bijslag(leeftijd,i , code)\n",
    "        totaal += bijslag\n",
    "\n",
    "    print(\"Het totaal bedrag van de bijslag is\", totaal)\n",
    "\n",
    "\n",
    "start()\n",
    "\n",
    "\n",
    "\n",
    "    \n",
    "    \n"
   ]
  }
 ],
 "metadata": {
  "kernelspec": {
   "display_name": "Python 3",
   "language": "python",
   "name": "python3"
  },
  "language_info": {
   "codemirror_mode": {
    "name": "ipython",
    "version": 3
   },
   "file_extension": ".py",
   "mimetype": "text/x-python",
   "name": "python",
   "nbconvert_exporter": "python",
   "pygments_lexer": "ipython3",
   "version": "3.12.3"
  }
 },
 "nbformat": 4,
 "nbformat_minor": 1
}
