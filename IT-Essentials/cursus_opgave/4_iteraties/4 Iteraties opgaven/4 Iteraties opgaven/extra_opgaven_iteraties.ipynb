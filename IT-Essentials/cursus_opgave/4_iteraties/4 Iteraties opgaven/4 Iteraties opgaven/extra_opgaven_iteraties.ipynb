{
 "cells": [
  {
   "cell_type": "markdown",
   "metadata": {},
   "source": [
    "# Extra Oefeningen Hoofdstuk 4: Iteraties"
   ]
  },
  {
   "cell_type": "markdown",
   "metadata": {},
   "source": [
    "**Oefening 4.1**\n",
    "\n",
    "Een vereniging verkoopt drankjetons. Iedere jeton kost 0,70€. Maak een omrekentabel voor de drankjetons als volgt:\n",
    "\n",
    "    1 jetons = 0.7\n",
    "    2 jetons = 1.4\n",
    "    3 jetons = 2.1\n",
    "    4 jetons = 2.8\n",
    "    5 jetons = 3.5\n",
    "    6 jetons = 4.2\n",
    "    ...\n",
    "    19 jetons = 13.3\n",
    "    20 jetons = 14.0\n",
    "    21 jetons = 14.7\n",
    "    22 jetons = 15.4\n",
    "    23 jetons = 16.1\n",
    "    24 jetons = 16.8\n",
    "    25 jetons = 17.5\n",
    "    30 jetons = 21.0\n",
    "    35 jetons = 24.5\n",
    "    40 jetons = 28.0\n",
    "    45 jetons = 31.5\n",
    "    50 jetons = 35.0"
   ]
  },
  {
   "cell_type": "markdown",
   "metadata": {},
   "source": [
    "**Oefening 4.2**\n",
    "\n",
    "Via het toetsenbord wordt de naam van een student en zijn behaald percentage\n",
    "ingegeven. Doe een invoercontrole op het behaald percentage (enkel 0-100 is \n",
    "toegelaten). Telkens een verkeerde invoer gebeurt, dient er op het scherm een \n",
    "foutboodschap te verschijnen. Ofwel \"Fout! het getal moet minstens 0 zijn\" ofwel \"Fout! \n",
    "het getal mag maximum 100 zijn\". \n",
    "Bepaal vervolgens de behaalde graad en druk naam en graad af.\n",
    "\n",
    "    < 60%\tonvoldoende\n",
    "\t60<70%\tvoldoende\n",
    "\t70<80%\tonderscheiding\n",
    "\t80<85%\tgrote onderscheiding\n",
    "\t≥ 85%\tgrootste onderscheiding\n",
    "\n",
    "*Uitbreiding:* Het programma moet herhaald kunnen worden voor meerdere \n",
    "studenten.  Wanneer als naam “xx” of “XX” wordt ingevoerd, eindigt het programma.\n"
   ]
  },
  {
   "cell_type": "markdown",
   "metadata": {},
   "source": [
    "<pre>\n",
    "Geef de naam van de student in: <span style=\"color:blue\">jan</span>\n",
    "Geef het percentage van student jan in: <span style=\"color:blue\">200</span>\n",
    "Fout! Het getal mag maximum 100 zijn.\n",
    "Geef het percentage van student jan in: <span style=\"color:blue\">-2</span>\n",
    "Fout! Het getal moet minstens 0 zijn\n",
    "Geef het percentage van student jan in: <span style=\"color:blue\">100</span>\n",
    "De graad van student jan is grootste onderscheiding\n",
    "\n",
    "Uitbreiding:\n",
    "Geef de naam van de student in: <span style=\"color:blue\">vik</span>\n",
    "Geef het percentage van student vik in: <span style=\"color:blue\">88</span>\n",
    "De graad van student vik is grootste onderscheiding\n",
    "Geef de naam van de student in: <span style=\"color:blue\">annie</span>\n",
    "Geef het percentage van studennt annie in: <span style=\"color:blue\">99</span>\n",
    "De graad van student annie is grootste onderscheiding\n",
    "Geef de naam van de student in: <span style=\"color:blue\">mia</span>\n",
    "Geef het percentage van studennt mia in: <span style=\"color:blue\">22</span>\n",
    "De graad van student mia is onvoldoende\n",
    "Geef de naam van de student in: <span style=\"color:blue\">XX</span>\n",
    "    \n",
    "</pre>"
   ]
  },
  {
   "cell_type": "markdown",
   "metadata": {},
   "source": [
    "**Oefening 4.3**\n",
    "\n",
    "Een trainingscentrum voor managers heeft het volgende criterium tot slagen. Indien het gemiddelde op de drie examens beneden de 70% is, dan faalt de manager. In alle andere gevallen slaagt de manager.\n",
    "De naam van de manager en de resultaten van de 3 examens (op 100) worden ingevoerd.  De invoer eindigt als voor de naam “xx” of “XX” wordt ingevoerd.\n",
    "Schrijf een programma om het volgende rapport af te drukken. Het gemiddelde wordt afgerond op 1 decimaal.\n"
   ]
  },
  {
   "cell_type": "markdown",
   "metadata": {},
   "source": [
    "<pre>\n",
    "Geef de naam van de manager in: <span style=\"color:blue\">Jans Ann</span>\n",
    "Test1: <span style=\"color:blue\">40</span>\n",
    "Test2: <span style=\"color:blue\">60</span>\n",
    "Test3: <span style=\"color:blue\">20</span>\n",
    "Jans Ann Test1: 40 Test2: 60 Test3: 20 Gemiddelde: 40.0 Resultaat: faalt\n",
    "Geef de naam van de manager in: <span style=\"color:blue\">Peeters Jan</span>\n",
    "Test1: <span style=\"color:blue\">80</span>\n",
    "Test2: <span style=\"color:blue\">90</span>\n",
    "Test3: <span style=\"color:blue\">75</span>\n",
    "Peeters Jan Test1: 80 Test2: 90 Test3: 75 Gemiddelde: 81.7 Resultaat: slaagt\n",
    "Geef de naam van de manager in: xx\n",
    "Er slaagde 50.0 % van de 2 deelnemers\n",
    "\n",
    "</pre>"
   ]
  },
  {
   "cell_type": "markdown",
   "metadata": {},
   "source": [
    "**Oefening 4.4**\n",
    "\n",
    "Van werknemers in een bedrijf wil men de conditie nagaan. Volgende gegevens worden via het toetsenbord ingegeven: het geslacht (1 = man, 2 = vrouw) en de afstand afgelegd in km na 12 minuten lopen. De invoer stopt wanneer er voor geslacht een getal wordt ingegeven dat niet 1 of 2 is. Op basis van de afgelegde km kan men het conditiegetal berekenen: \n",
    "$conditie\\_getal = \\frac{(afstand(in\\ meter) - 504.9)}{44.73}$\n",
    "\n",
    "*Gevraagd:* Geef het percentage van de werknemers die een slechte conditie hebben. We spreken voor vrouwen over een slechte conditie als het conditiegetal kleiner is dan 29, voor mannen als het conditiegetal kleiner dan 36 is."
   ]
  },
  {
   "cell_type": "markdown",
   "metadata": {},
   "source": [
    "<pre>\n",
    "Geef het geslacht van de werknemer in (1 = vrouw / 2 = man): <span style=\"color:blue\">1</span>\n",
    "Geef de afstand in km na 12 min lopen: <span style=\"color:blue\">2.1</span>\n",
    "Geef het geslacht van de werknemer in (1 = vrouw / 2 = man): <span style=\"color:blue\">2</span>\n",
    "Geef de afstand in km na 12 min lopen: <span style=\"color:blue\">1.1</span>\n",
    "Geef het geslacht van de werknemer in (1 = vrouw / 2 = man): <span style=\"color:blue\">1</span>\n",
    "Geef de afstand in km na 12 min lopen: <span style=\"color:blue\">1</span>\n",
    "Geef het geslacht van de werknemer in (1 = vrouw / 2 = man): <span style=\"color:blue\">3</span>\n",
    "Het percentage werknemers met een slechte conditie is  66.66666666666666\n",
    "\n",
    "</pre>"
   ]
  },
  {
   "cell_type": "markdown",
   "metadata": {},
   "source": [
    "**Oefening 4.5**\n",
    "\n",
    "Leonardo van Pisa, ook wel Fibonacci genoemd, bestudeerde omstreeks 1200 de vermenigvuldiging van konijnen. Hij gebruikte daarvoor een getallenrij waarin elke term gevormd wordt door de som van zijn twee directe voorgangers te nemen. De eerste twee termen zijn 1. De rij ziet er dus als volgt uit: 1 1 2 3 5 8 13 … Druk de elementen van de rij af die kleiner zijn dan 1500."
   ]
  },
  {
   "cell_type": "markdown",
   "metadata": {},
   "source": [
    "<pre>\n",
    "1  1  2  3  5  8  13  21  34  55  89  144  233  377  610  987\n",
    "\n",
    "</pre>"
   ]
  },
  {
   "cell_type": "markdown",
   "metadata": {},
   "source": [
    "**Oefening 4.6**\n",
    "\n",
    "Maak een programma om een rechthoek te tekenen. Via het toetsenbord wordt de lengte (het aantal tekens per lijn) en de hoogte (het aantal lijnen) ingegeven.\n",
    "Maak een output als volgt:\n",
    "\n",
    "```\n",
    "*  *  *  *  *  *\n",
    "*  *  *  *  *  *\n",
    "*  *  *  *  *  *\n",
    "*  *  *  *  *  *\n",
    "```\n",
    "In dit voorbeeld is de lengte 6 en de hoogte 4. \n",
    "\n",
    "*Extra:*  Wijzig je code zodat de output wordt: \n",
    "\n",
    "```\n",
    "*  *  *  *  *  *\n",
    "*              *\n",
    "*              *\n",
    "*  *  *  *  *  *\n",
    "```\n"
   ]
  }
 ],
 "metadata": {
  "kernelspec": {
   "display_name": "Python 3 (ipykernel)",
   "language": "python",
   "name": "python3"
  },
  "language_info": {
   "codemirror_mode": {
    "name": "ipython",
    "version": 3
   },
   "file_extension": ".py",
   "mimetype": "text/x-python",
   "name": "python",
   "nbconvert_exporter": "python",
   "pygments_lexer": "ipython3",
   "version": "3.11.4"
  }
 },
 "nbformat": 4,
 "nbformat_minor": 1
}
