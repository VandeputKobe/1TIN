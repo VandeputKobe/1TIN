{
 "cells": [
  {
   "cell_type": "markdown",
   "metadata": {},
   "source": [
    "# Oefeningen Hoofdstuk 3: Condities"
   ]
  },
  {
   "cell_type": "markdown",
   "metadata": {},
   "source": [
    "**Oefening 3.1**\n",
    "Er worden twee getallen ingelezen via het toetsenbord. Als de getallen gelijk zijn, wordt afgedrukt: *De twee getallen zijn gelijk*. In het andere geval wordt afgedrukt: *De twee getallen zijn ongelijk*."
   ]
  },
  {
   "cell_type": "markdown",
   "metadata": {},
   "source": [
    "<pre>\n",
    "Geef getal 1 in: <span style=\"color:blue\">-7</span>\n",
    "Geef getal 2 in: <span style=\"color:blue\">7</span>\n",
    "De twee getallen zijn ongelijk.\n",
    "\n",
    "</pre>"
   ]
  },
  {
   "cell_type": "markdown",
   "metadata": {},
   "source": [
    "**Oefening 3.2**\n",
    "Geef via het toetsenbord het brutoloon van een werknemer in. Gevraagd wordt het jaarlijks vakantiegeld en de jaarlijkse bijdrage te berekenen en af te drukken. Het vakantiegeld is 5% van dit brutoloon. Is dit vakantiegeld minstens 350 euro dan is de jaarlijkse bijdrage gelijk aan 8% van 350 euro. Is dit vakantiegeld kleiner dan 350 euro dan is de jaarlijkse bijdrage 8% van het vakantiegeld. \n",
    "Druk af voor deze werknemer: \n",
    "+ brutoloon\n",
    "+ vakantiegeld\n",
    "+ jaarlijkse bijdrage"
   ]
  },
  {
   "cell_type": "markdown",
   "metadata": {},
   "source": [
    "<pre>\n",
    "Geef het bruto loon in: <span style=\"color:blue\">4550.63</span>\n",
    "Het bruto loon van deze werknemer is 4550.63\n",
    "Het vakantiegeld van deze werknemer is 227.53150000000002\n",
    "De jaarlijkse bijdrage van deze werknemer is 18.202520000000003\n",
    "\n",
    "</pre>"
   ]
  },
  {
   "cell_type": "markdown",
   "metadata": {},
   "source": [
    "**Oefening 3.3**\n",
    "Bereken de aankomsttijd van een vlucht.  De vertrektijd (uren en minuten in 2 verschillende variabelen) en de duur in minuten worden ingevoerd.\n",
    "Vb. vertrekuur = 22, vertrekminuut = 18, duur = 170, het aankomstuur wordt 1, de aankomstminuut wordt 8."
   ]
  },
  {
   "cell_type": "markdown",
   "metadata": {},
   "source": [
    "<pre>\n",
    "geef vertrekuur: <span style=\"color:blue\">21</span>\n",
    "geef vertrekminuten: <span style=\"color:blue\">55</span>\n",
    "geef de duur in minuten: <span style=\"color:blue\">1700</span>\n",
    "je komt aan om 2:15u\n",
    "\n",
    "</pre>"
   ]
  },
  {
   "cell_type": "markdown",
   "metadata": {},
   "source": [
    "**Oefening 3.4**\n",
    "Geef 2 getallen in via het toetsenbord.  Maak een afdruk als volgt:\n",
    "+ Het kleinste getal is ..\n",
    "+ Het kwadraat van het kleinste getal is..\n",
    "+ Het grootste getal gedeeld door het kleinste getal is .. (Let op voor deling door 0!)\n",
    "\n",
    "Vermijd identieke lijnen code!"
   ]
  },
  {
   "cell_type": "markdown",
   "metadata": {},
   "source": [
    "<pre>\n",
    "Geef getal 1 in: <span style=\"color:blue\">7</span>\n",
    "Geef getal 2 in: <span style=\"color:blue\">-8</span>\n",
    "het kleinste getal is -8\n",
    "het kwadraat van het kleinste getal is 64\n",
    "het grootste gedeeld door het kleinste is -0.875\n",
    "\n",
    "</pre>"
   ]
  },
  {
   "cell_type": "markdown",
   "metadata": {},
   "source": [
    "**Oefening 3.5**\n",
    "De eenheidsprijs van een bepaald artikel is €11,5. Het btwPercentage bedraagt 21%. Vraag de klant hoeveel artikels hij wil bestellen. Op de totale prijs inclusief BTW wordt een reductie van 10% gegeven indien het bedrag hoger is dan 1.000 euro. Toon het bedrag dat de klant moet betalen."
   ]
  },
  {
   "cell_type": "markdown",
   "metadata": {},
   "source": [
    "<pre>\n",
    "Hoeveel stuks wil je? <span style=\"color:blue\">7</span>\n",
    "De totale prijs is 97.405\n",
    "\n",
    "</pre>"
   ]
  },
  {
   "cell_type": "markdown",
   "metadata": {},
   "source": [
    "**Oefening 3.6**\n",
    "Maak een programma om de aankoopprijs van een DVD te berekenen.\n",
    "Geef via het toetsenbord in van welk jaar de film is en welke rating (getal 1-5).\n",
    "De basisprijs is steeds 5 euro.\n",
    "Voor een film die minder dan 2 jaar oud is, wordt een euro extra betaald.\n",
    "Voor films met rating 4 of 5 betaal je 2 euro meer.\n",
    "Druk de prijs van de film af.\n",
    "\n",
    "Uitbreiding : \n",
    "+ Voor films met rating 3 of 2 betaal je 1 euro meer\n",
    "+ Let erop dat een film nooit meer kost dan 7 euro"
   ]
  },
  {
   "cell_type": "markdown",
   "metadata": {},
   "source": [
    "<pre>\n",
    "Geef jaartal van de film in <span style=\"color:blue\">2022</span>\n",
    "Geef rating van de film in (1 - 5) <span style=\"color:blue\">5</span>\n",
    "De prijs van een film is  8\n",
    "\n",
    "Uitbreiding:\n",
    "Geef jaartal van de film in <span style=\"color:blue\">2022</span>\n",
    "Geef rating van de film in (1 - 5) <span style=\"color:blue\">5</span>\n",
    "De prijs van een film is 7\n",
    "\n",
    "</pre>"
   ]
  },
  {
   "cell_type": "markdown",
   "metadata": {},
   "source": [
    "**Oefening 3.7**\n",
    "De resultaten van een student behaald op 3 verschillende examens, moeten via het toetsenbord ingegeven worden. Deze resultaten staan op 20 en alleen gehele punten worden gegeven. Bepaal het behaald percentage van deze student en geef hiervan een afdruk weer samen met zijn behaalde graad. \n",
    "+ < 60% onvoldoende \n",
    "+ < 70% voldoende \n",
    "+ < 80% onderscheiding \n",
    "+ < 90% grote onderscheiding \n",
    "+ ≥ 90% grootste onderscheiding."
   ]
  },
  {
   "cell_type": "markdown",
   "metadata": {},
   "source": [
    "<pre>\n",
    "Geef resultaat 1 in <span style=\"color:blue\">12</span>\n",
    "Geef resultaat 2 in <span style=\"color:blue\">17</span>\n",
    "Geef resultaat 3 in <span style=\"color:blue\">9</span>\n",
    "Het percentage van deze student is 63.33333333333333 en zijn graad is voldoende\n",
    "\n",
    "</pre>"
   ]
  },
  {
   "cell_type": "markdown",
   "metadata": {},
   "source": [
    "**Oefening 3.8**\n",
    "De prijs van een vliegtuigticket wordt bepaald door een aantal factoren, nl.:\n",
    "+ de lengte van de vlucht of de afstand in km\n",
    "    + $<$1000 km: korte afstandsvlucht: 25 eurocent/km\n",
    "    + 1000-2999 km: middellange afstandsvlucht: 20 eurocent/km\n",
    "    + $>$2999 km: lange afstandsvlucht: 12 eurocent/km\n",
    "+ de soort vlucht of klasse: \n",
    "    + toeristenklasse\n",
    "    + charter -20%\n",
    "    + zakenreis +30%\n",
    "\n",
    "Schrijf een programma dat de prijs van een vliegtuigticket berekent. De afstand in km en de klasse (1 = toeristenklasse, 2 = charter en 3 = zakenreis) dienen ingegeven te worden. Druk de uiteindelijke ticketprijs af. Deze prijs moet uitgedrukt zijn in euro’s."
   ]
  },
  {
   "cell_type": "markdown",
   "metadata": {},
   "source": [
    "<pre>\n",
    "Testoutput 1:\n",
    "Geef de afstand van de vlucht in (in km): <span style=\"color:blue\">1500</span>\n",
    "Geef de klasse van de vlucht in (1=toeristenklasse;2=charter;3=zakenreis): <span style=\"color:blue\">2</span>\n",
    "De prijs van jouw ticket is 240.0 Euro\n",
    "\n",
    "Testoutput 2:\n",
    "Geef de afstand van de vlucht in (in km): <span style=\"color:blue\">3000</span>\n",
    "Geef de klasse van de vlucht in (1=toeristenklasse;2=charter;3=zakenreis): <span style=\"color:blue\">3</span>\n",
    "De prijs van jouw ticket is 468.0 Euro\n",
    "\n",
    "</pre>"
   ]
  },
  {
   "cell_type": "markdown",
   "metadata": {},
   "source": [
    "**Oefening 3.9**\n",
    "Via het toetsenbord worden 2 gehele getallen a en b en een bewerkingscode code ingegeven. De bewerkingscode biedt de volgende mogelijkheden: \n",
    "+ code 1: optelling (a+b) \n",
    "+ code 2: aftrekking (a-b) \n",
    "+ code 3: vermenigvuldiging (a×b) \n",
    "+ code 4: kwadraat van a\n",
    "+ code 5: kwadraat van b\n",
    "\n",
    "Men wenst voor de ingevoerde getallen a en b, de via de code opgegeven bewerking uit te voeren, en het resultaat samen met de ingevoerde getallen af te drukken. Indien een code ingevoerd wordt die niet beantwoordt aan één van bovenvermelde bewerkingscodes, moet volgende boodschap “Foutieve code” afgedrukt worden."
   ]
  },
  {
   "cell_type": "markdown",
   "metadata": {},
   "source": [
    "<pre>\n",
    "Testoutput 1:\n",
    "Geef geheel getal a in <span style=\"color:blue\">17</span>\n",
    "Geef geheel getal b in <span style=\"color:blue\">-25</span>\n",
    "Geef code in (1=optelling;2=aftrekking;3=vermenigvuldiging;4=kwadraat van a;5=kwadraat van b): <span style=\"color:blue\">1</span>\n",
    "De 2 getallen zijn 17 en -25 en het resultaat is -8\n",
    "\n",
    "Testoutput 2:\n",
    "Geef geheel getal a in <span style=\"color:blue\">0</span>\n",
    "Geef geheel getal b in <span style=\"color:blue\">1</span>\n",
    "Geef code in (1=optelling;2=aftrekking;3=vermenigvuldiging;4=kwadraat van a;5=kwadraat van b): <span style=\"color:blue\">8</span>\n",
    "De 2 getallen zijn 0 en 1 en het resultaat is foutieve code\n",
    "\n",
    "</pre>"
   ]
  },
  {
   "cell_type": "markdown",
   "metadata": {},
   "source": [
    "**Oefening 3.10**\n",
    "Schrijf een programma dat toelaat de leeftijd en het aansluitingsjaar van een lid van een tennisclub in te voeren en dat op basis hiervan zijn bijdrage berekent en afdrukt. Volgende regels worden hierbij gerespecteerd:\n",
    "+ Basisbedrag: 100 euro\n",
    "+ Reductie: 14.5 euro indien het lid nog geen 21 is of ouder is dan 60\n",
    "+ Reductie: 2.5 euro per aangesloten jaar\n",
    "\n",
    "Minimum te betalen bedrag is 62.5 euro.\n",
    "\n",
    "Gebruik een constante met de waarde van het huidige jaar."
   ]
  },
  {
   "cell_type": "markdown",
   "metadata": {},
   "source": [
    "<pre>\n",
    "Testoutput 1:\n",
    "Geef jouw leeftijd in: <span style=\"color:blue\">18</span>\n",
    "Geef jouw aansluitingsjaar bij de club in: <span style=\"color:blue\">2020</span>\n",
    "De bijdrage voor dit lid is: 78.0\n",
    "\n",
    "Testoutput 2:\n",
    "Geef jouw leeftijd in: <span style=\"color:blue\">65</span>\n",
    "Geef jouw aansluitingsjaar bij de club in: <span style=\"color:blue\">1980</span>\n",
    "De bijdrage voor dit lid is: 62.5\n",
    "\n",
    "</pre>"
   ]
  },
  {
   "cell_type": "markdown",
   "metadata": {},
   "source": [
    "**Oefening 3.11**\n",
    "Prijsberekening vakantie\n",
    "\n",
    "*Invoer:*\n",
    "+ aantal sterren: 1 - 5\n",
    "+ code: O (enkel ontbijt), H (half-pension), V (vol pension), A (all-inclusive)\n",
    "+ aantal overnachtingen\n",
    "+ seizoen: H (hoogseizoen), L (laagseizoen), T (tussenseizoen)\n",
    "\n",
    "De prijs voor het verblijf wordt als volgt berekend:\n",
    "+ voor een 1-sterrenhotel betaal je per nacht 30 euro\n",
    "+ voor een 2-3-sterrenhotel betaal je per nacht 40 euro\n",
    "+ voor een 4-5-sterrenhotel betaal je per nacht 55 euro\n",
    "\n",
    "De prijs voor de maaltijden wordt als volgt berekend:\n",
    "+ voor enkel ontbijt betaal je 20% van de overnachtingskosten\n",
    "+ voor half-pension betaal je 50% van de overnachtingskosten\n",
    "+ voor vol-pension betaal je 60% van de overnachtingskosten\n",
    "\n",
    "*LET OP:* voor All-inclusive betaal je steeds (ongeacht het aantal sterren) bovenop de prijs voor vol-pension een vaste prijs van 80 euro per overnachting.\n",
    "\n",
    "Er wordt een extra korting van 10% op de totaalprijs toegekend tijdens het laagseizoen voor de codes O en H.\n",
    "Geef de nodige gegevens in en druk de prijs van een vakantie voor 1 persoon af."
   ]
  },
  {
   "cell_type": "markdown",
   "metadata": {},
   "source": [
    "<pre>\n",
    "Testoutput 1:\n",
    "Geef het aantal sterren in (1 - 5): <span style=\"color:blue\">4</span>\n",
    "Geef de code in (O=enkel ontbijt; H=half-pension; V=vol pension; A=all-incl): <span style=\"color:blue\">A</span>\n",
    "Geef het aantal overnachtingen in: <span style=\"color:blue\">10</span>\n",
    "Geef het seizoen in (H=hoogseizoen; L=laagseizoen; T=tussenseizoen): <span style=\"color:blue\">L</span>\n",
    "De prijs voor de vakantie van deze persoon is: 1680.0\n",
    "\n",
    "Testoutput 2:\n",
    "Geef het aantal sterren in (1 - 5): <span style=\"color:blue\">1</span>\n",
    "Geef de code in (O=enkel ontbijt; H=half-pension; V=vol pension; A=all-incl): <span style=\"color:blue\">H</span>\n",
    "Geef het aantal overnachtingen in: <span style=\"color:blue\">5</span>\n",
    "Geef het seizoen in (H=hoogseizoen; L=laagseizoen; T=tussenseizoen): <span style=\"color:blue\">L</span>\n",
    "De prijs voor de vakantie van deze persoon is: 202.5\n",
    "\n",
    "</pre>"
   ]
  }
 ],
 "metadata": {
  "kernelspec": {
   "display_name": "Python 3 (ipykernel)",
   "language": "python",
   "name": "python3"
  },
  "language_info": {
   "codemirror_mode": {
    "name": "ipython",
    "version": 3
   },
   "file_extension": ".py",
   "mimetype": "text/x-python",
   "name": "python",
   "nbconvert_exporter": "python",
   "pygments_lexer": "ipython3",
   "version": "3.11.4"
  }
 },
 "nbformat": 4,
 "nbformat_minor": 1
}
