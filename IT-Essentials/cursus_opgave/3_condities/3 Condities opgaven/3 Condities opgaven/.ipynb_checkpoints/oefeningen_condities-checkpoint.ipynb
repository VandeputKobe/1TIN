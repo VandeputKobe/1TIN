{
 "cells": [
  {
   "cell_type": "markdown",
   "metadata": {},
   "source": [
    "# Oefeningen Hoofdstuk 3: Condities"
   ]
  },
  {
   "cell_type": "markdown",
   "metadata": {},
   "source": [
    "**Oefening 3.1**\n",
    "Er worden twee getallen ingelezen via het toetsenbord. Als de getallen gelijk zijn, wordt afgedrukt: *De twee getallen zijn gelijk*. In het andere geval wordt afgedrukt: *De twee getallen zijn ongelijk*."
   ]
  },
  {
   "cell_type": "code",
   "execution_count": 2,
   "metadata": {},
   "outputs": [
    {
     "name": "stdout",
     "output_type": "stream",
     "text": [
      "de getallen zijn gelijk\n"
     ]
    }
   ],
   "source": [
    "getal1 = float(input(\"geef getal1: \"))\n",
    "getal2 = float(input(\"geef getal2: \"))\n",
    "\n",
    "if getal1 == getal2:\n",
    "    print(\"de getallen zijn gelijk\")\n",
    "else:\n",
    "    print(\"de getallen zijn niet gelijk\")"
   ]
  },
  {
   "cell_type": "markdown",
   "metadata": {},
   "source": [
    "**Oefening 3.2**\n",
    "Geef via het toetsenbord het brutoloon van een werknemer in. Gevraagd wordt het jaarlijks vakantiegeld en de jaarlijkse bijdrage te berekenen en af te drukken. Het vakantiegeld is 5% van dit brutoloon. Is dit vakantiegeld minstens 350 euro dan is de jaarlijkse bijdrage gelijk aan 8% van 350 euro. Is dit vakantiegeld kleiner dan 350 euro dan is de jaarlijkse bijdrage 8% van het vakantiegeld. \n",
    "Druk af voor deze werknemer: \n",
    "+ brutoloon\n",
    "+ vakantiegeld\n",
    "+ jaarlijkse bijdrage"
   ]
  },
  {
   "cell_type": "code",
   "execution_count": 4,
   "metadata": {},
   "outputs": [
    {
     "name": "stdout",
     "output_type": "stream",
     "text": [
      "brutoloon: 250.0\n",
      "jaarlijks vakantiegeld: 12.5\n",
      "jaarlijkse bijdrage: 1.0\n"
     ]
    }
   ],
   "source": [
    "brutoloon = float(input(\"geef brutoloon: \"))\n",
    "jaarlijks_vakantiegeld = brutoloon * 0.05\n",
    "if jaarlijks_vakantiegeld >= 350:\n",
    "    jaarlijkse_bijdrage = 350*0.08\n",
    "else:\n",
    "    jaarlijkse_bijdrage = jaarlijks_vakantiegeld*0.08\n",
    "\n",
    "print(\"brutoloon:\", brutoloon)\n",
    "print(\"jaarlijks vakantiegeld:\", jaarlijks_vakantiegeld)\n",
    "print(\"jaarlijkse bijdrage:\", jaarlijkse_bijdrage)\n"
   ]
  },
  {
   "cell_type": "markdown",
   "metadata": {},
   "source": [
    "**Oefening 3.3**\n",
    "Bereken de aankomsttijd van een vlucht.  De vertrektijd (uren en minuten in 2 verschillende variabelen) en de duur in minuten worden ingevoerd.\n",
    "Vb. vertrekuur = 22, vertrekminuut = 18, duur = 170, het aankomstuur wordt 1, de aankomstminuut wordt 8."
   ]
  },
  {
   "cell_type": "code",
   "execution_count": 5,
   "metadata": {},
   "outputs": [
    {
     "name": "stdout",
     "output_type": "stream",
     "text": [
      "aankomsttijd: 2 uur 51 min\n"
     ]
    }
   ],
   "source": [
    "vertrektijduur = int(input(\"geef vertrektijd (uur): \"))\n",
    "vertrektijdmin = int(input(\"geef vertrektijd (min): \"))\n",
    "duur = int(input(\"geef duur vlucht (min): \"))\n",
    "\n",
    "duur_uur = duur // 60\n",
    "duur_min = duur % 60\n",
    "aankomstuur = vertrektijduur + duur_uur\n",
    "aankomstmin = vertrektijdmin + duur_min\n",
    "if aankomstmin >= 60:\n",
    "    aankomstuur += 1\n",
    "    aankomstmin -= 60\n",
    "if aankomstuur >= 24:\n",
    "    aankomstuur -= 24\n",
    "print(\"aankomsttijd:\", aankomstuur, \"uur\", aankomstmin, \"min\")\n",
    "\n"
   ]
  },
  {
   "cell_type": "markdown",
   "metadata": {},
   "source": [
    "**Oefening 3.4**\n",
    "Geef 2 getallen in via het toetsenbord.  Maak een afdruk als volgt:\n",
    "+ Het kleinste getal is ..\n",
    "+ Het kwadraat van het kleinste getal is..\n",
    "+ Het grootste getal gedeeld door het kleinste getal is .. (Let op voor deling door 0!)\n",
    "\n",
    "Vermijd identieke lijnen code!"
   ]
  },
  {
   "cell_type": "code",
   "execution_count": 8,
   "metadata": {},
   "outputs": [
    {
     "name": "stdout",
     "output_type": "stream",
     "text": [
      "het kleinste getal is: 0.0\n",
      "het kwadraat van het kleinste getal is: 0.0\n",
      "delen door nul is niet mogelijk\n"
     ]
    }
   ],
   "source": [
    "getal1 = float(input(\"geef getal1: \"))\n",
    "getal2 = float(input(\"geef getal2: \"))\n",
    "\n",
    "if getal1 > getal2:\n",
    "    print(\"het kleinste getal is:\", getal2)\n",
    "    print(\"het kwadraat van het kleinste getal is:\", getal2**2)\n",
    "    if (getal2 != 0):\n",
    "        print(\"het grootste getal gedeeld door het kleinste getal is:\", getal1/getal2)\n",
    "    else:\n",
    "        print(\"delen door nul is niet mogelijk\")\n",
    "elif getal2 > getal1:\n",
    "    print(\"het kleinste getal is:\", getal1)\n",
    "    print(\"het kwadraat van het kleinste getal is:\", getal1**2)\n",
    "    if (getal1 != 0):\n",
    "        print(\"het grootste getal gedeeld door het kleinste getal is:\", getal2/getal1)\n",
    "    else:\n",
    "        print(\"delen door nul is niet mogelijk\")\n",
    "\n"
   ]
  },
  {
   "cell_type": "markdown",
   "metadata": {},
   "source": [
    "**Oefening 3.5**\n",
    "De eenheidsprijs van een bepaald artikel is €11,5. Het btwPercentage bedraagt 21%. Vraag de klant hoeveel artikels hij wil bestellen. Op de totale prijs inclusief BTW wordt een reductie van 10% gegeven indien het bedrag hoger is dan 1.000 euro. Toon het bedrag dat de klant moet betalen."
   ]
  },
  {
   "cell_type": "code",
   "execution_count": 11,
   "metadata": {},
   "outputs": [
    {
     "name": "stdout",
     "output_type": "stream",
     "text": [
      "totaalprijs: 139.15\n"
     ]
    }
   ],
   "source": [
    "prijs_artikel = 11.5\n",
    "btwPercentage = 0.21\n",
    "aantal_artikelen = int(input(\"geef aantal artikelen: \"))\n",
    "totaalprijs = prijs_artikel * aantal_artikelen*(1 + btwPercentage)\n",
    "if totaalprijs > 1000:\n",
    "    totaalprijs = totaalprijs * 0.9\n",
    "print(\"totaalprijs:\", totaalprijs)"
   ]
  },
  {
   "cell_type": "markdown",
   "metadata": {},
   "source": [
    "**Oefening 3.6**\n",
    "Maak een programma om de aankoopprijs van een DVD te berekenen.\n",
    "Geef via het toetsenbord in van welk jaar de film is en welke rating (getal 1-5).\n",
    "De basisprijs is steeds 5 euro.\n",
    "Voor een film die minder dan 2 jaar oud is, wordt een euro extra betaald.\n",
    "Voor films met rating 4 of 5 betaal je 2 euro meer.\n",
    "Druk de prijs van de film af.\n",
    "\n",
    "Uitbreiding : \n",
    "+ Voor films met rating 3 of 2 betaal je 1 euro meer\n",
    "+ Let erop dat een film nooit meer kost dan 7 euro"
   ]
  },
  {
   "cell_type": "code",
   "execution_count": 13,
   "metadata": {},
   "outputs": [
    {
     "name": "stdout",
     "output_type": "stream",
     "text": [
      "prijs: 5\n"
     ]
    }
   ],
   "source": [
    "jaar = int(input(\"geef jaar: \"))\n",
    "rating = int(input(\"geef rating (1-5): \"))\n",
    "basisprijs = 5\n",
    "if jaar > 2023:\n",
    "    basisprijs += 1\n",
    "if rating >= 4:\n",
    "    basisprijs += 2\n",
    "elif rating >=2:\n",
    "    basisprijs += 1\n",
    "if basisprijs > 7:\n",
    "    basisprijs = 7\n",
    "print(\"prijs:\", basisprijs)"
   ]
  },
  {
   "cell_type": "markdown",
   "metadata": {},
   "source": [
    "**Oefening 3.7**\n",
    "De resultaten van een student behaald op 3 verschillende examens, moeten via het toetsenbord ingegeven worden. Deze resultaten staan op 20 en alleen gehele punten worden gegeven. Bepaal het behaald percentage van deze student en geef hiervan een afdruk weer samen met zijn behaalde graad. \n",
    "+ < 60% onvoldoende \n",
    "+ < 70% voldoende \n",
    "+ < 80% onderscheiding \n",
    "+ < 90% grote onderscheiding \n",
    "+ ≥ 90% grootste onderscheiding."
   ]
  },
  {
   "cell_type": "code",
   "execution_count": 14,
   "metadata": {},
   "outputs": [
    {
     "name": "stdout",
     "output_type": "stream",
     "text": [
      "grote onderscheiding\n"
     ]
    }
   ],
   "source": [
    "resultaat1 = float(input(\"geef resultaat1: \"))\n",
    "resultaat2 = float(input(\"geef resultaat2: \"))\n",
    "resultaat3 = float(input(\"geef resultaat3: \"))\n",
    "gemiddelde = (resultaat1 + resultaat2 + resultaat3) / 3\n",
    "behaald_persentage = (gemiddelde / 20) * 100\n",
    "if behaald_persentage >= 90:\n",
    "    print(\"grootste onderscheiding\")\n",
    "elif behaald_persentage >= 80:\n",
    "    print(\"grote onderscheiding\")\n",
    "elif behaald_persentage >= 70:\n",
    "    print(\"onderscheiding\")\n",
    "elif behaald_persentage >= 60:\n",
    "    print(\"voldoening\")\n",
    "else:\n",
    "    print(\"onvoldoende\")\n"
   ]
  },
  {
   "cell_type": "markdown",
   "metadata": {},
   "source": [
    "**Oefening 3.8**\n",
    "De prijs van een vliegtuigticket wordt bepaald door een aantal factoren, nl.:\n",
    "+ de lengte van de vlucht of de afstand in km\n",
    "    + $<$1000 km: korte afstandsvlucht: 25 eurocent/km\n",
    "    + 1000-2999 km: middellange afstandsvlucht: 20 eurocent/km\n",
    "    + $>$2999 km: lange afstandsvlucht: 12 eurocent/km\n",
    "+ de soort vlucht of klasse: \n",
    "    + toeristenklasse\n",
    "    + charter -20%\n",
    "    + zakenreis +30%\n",
    "\n",
    "Schrijf een programma dat de prijs van een vliegtuigticket berekent. De afstand in km en de klasse (1 = toeristenklasse, 2 = charter en 3 = zakenreis) dienen ingegeven te worden. Druk de uiteindelijke ticketprijs af. Deze prijs moet uitgedrukt zijn in euro’s."
   ]
  },
  {
   "cell_type": "code",
   "execution_count": 16,
   "metadata": {},
   "outputs": [
    {
     "name": "stdout",
     "output_type": "stream",
     "text": [
      "prijs: 160.0\n"
     ]
    }
   ],
   "source": [
    "afstand = float(input(\"geef afstand (km): \"))\n",
    "klasse = int(input(\"geef klasse (1,2 of 3): \"))\n",
    "if afstand < 1000:\n",
    "    prijs = 0.25 * afstand\n",
    "elif afstand < 2999:\n",
    "    prijs = 0.20 * afstand\n",
    "else:\n",
    "    prijs = 0.12 * afstand\n",
    "if klasse == 1:\n",
    "    prijs = prijs\n",
    "elif klasse == 2:\n",
    "    prijs = prijs * 0.8\n",
    "elif klasse == 3:\n",
    "    prijs = prijs * 1.3\n",
    "print(\"prijs:\", prijs)"
   ]
  },
  {
   "cell_type": "markdown",
   "metadata": {},
   "source": [
    "**Oefening 3.9**\n",
    "Via het toetsenbord worden 2 gehele getallen a en b en een bewerkingscode code ingegeven. De bewerkingscode biedt de volgende mogelijkheden: \n",
    "+ code 1: optelling (a+b) \n",
    "+ code 2: aftrekking (a-b) \n",
    "+ code 3: vermenigvuldiging (a×b) \n",
    "+ code 4: kwadraat van a\n",
    "+ code 5: kwadraat van b\n",
    "\n",
    "Men wenst voor de ingevoerde getallen a en b, de via de code opgegeven bewerking uit te voeren, en het resultaat samen met de ingevoerde getallen af te drukken. Indien een code ingevoerd wordt die niet beantwoordt aan één van bovenvermelde bewerkingscodes, moet volgende boodschap “Foutieve code” afgedrukt worden."
   ]
  },
  {
   "cell_type": "code",
   "execution_count": 19,
   "metadata": {},
   "outputs": [
    {
     "name": "stdout",
     "output_type": "stream",
     "text": [
      "c: 25\n"
     ]
    }
   ],
   "source": [
    "a = int(input(\"geef a: \"))\n",
    "b = int(input(\"geef b: \"))\n",
    "code = int(input(\"geef code (1,2,3,4 of 5): \" ))\n",
    "if code == 1:\n",
    "    c = a + b\n",
    "elif code == 2:\n",
    "    c = a - b\n",
    "elif code == 3:\n",
    "    c = a * b\n",
    "elif code == 4:\n",
    "    c = a**2\n",
    "elif code == 5:\n",
    "    c = b**2\n",
    "if code < 1 or code > 5:\n",
    "    print(\"foute code\")\n",
    "else:\n",
    "    print(\"c:\", c)"
   ]
  },
  {
   "cell_type": "markdown",
   "metadata": {},
   "source": [
    "**Oefening 3.10**\n",
    "Schrijf een programma dat toelaat de leeftijd en het aansluitingsjaar van een lid van een tennisclub in te voeren en dat op basis hiervan zijn bijdrage berekent en afdrukt. Volgende regels worden hierbij gerespecteerd:\n",
    "+ Basisbedrag: 100 euro\n",
    "+ Reductie: 14.5 euro indien het lid nog geen 21 is of ouder is dan 60\n",
    "+ Reductie: 2.5 euro per aangesloten jaar\n",
    "\n",
    "Minimum te betalen bedrag is 62.5 euro.\n",
    "\n",
    "Gebruik een constante met de waarde van het huidige jaar."
   ]
  },
  {
   "cell_type": "code",
   "execution_count": 20,
   "metadata": {},
   "outputs": [
    {
     "name": "stdout",
     "output_type": "stream",
     "text": [
      "basisprijs: 62.5\n"
     ]
    }
   ],
   "source": [
    "huidige_jaar = 2025\n",
    "basisprijs = 100\n",
    "leeftijd = int(input(\"geef leeftijd: \"))\n",
    "aansluitingsjaar = int(input(\"geef aansluitingsjaar: \"))\n",
    "\n",
    "if leeftijd < 21 or leeftijd >= 60:\n",
    "    basisprijs -= 14.5\n",
    "basisprijs -= (huidige_jaar - aansluitingsjaar) * 2.5\n",
    "if basisprijs < 62.5:\n",
    "    basisprijs = 62.5\n",
    "print(\"basisprijs:\", basisprijs)"
   ]
  },
  {
   "cell_type": "markdown",
   "metadata": {},
   "source": [
    "**Oefening 3.11**\n",
    "Prijsberekening vakantie\n",
    "\n",
    "*Invoer:*\n",
    "+ aantal sterren: 1 - 5\n",
    "+ code: O (enkel ontbijt), H (half-pension), V (vol pension), A (all-inclusive)\n",
    "+ aantal overnachtingen\n",
    "+ seizoen: H (hoogseizoen), L (laagseizoen), T (tussenseizoen)\n",
    "\n",
    "De prijs voor het verblijf wordt als volgt berekend:\n",
    "+ voor een 1-sterrenhotel betaal je per nacht 30 euro\n",
    "+ voor een 2-3-sterrenhotel betaal je per nacht 40 euro\n",
    "+ voor een 4-5-sterrenhotel betaal je per nacht 55 euro\n",
    "\n",
    "De prijs voor de maaltijden wordt als volgt berekend:\n",
    "+ voor enkel ontbijt betaal je 20% van de overnachtingskosten\n",
    "+ voor half-pension betaal je 50% van de overnachtingskosten\n",
    "+ voor vol-pension betaal je 60% van de overnachtingskosten\n",
    "\n",
    "*LET OP:* voor All-inclusive betaal je steeds (ongeacht het aantal sterren) bovenop de prijs voor vol-pension een vaste prijs van 80 euro per overnachting.\n",
    "\n",
    "Er wordt een extra korting van 10% op de totaalprijs toegekend tijdens het laagseizoen voor de codes O en H.\n",
    "Geef de nodige gegevens in en druk de prijs van een vakantie voor 1 persoon af."
   ]
  },
  {
   "cell_type": "code",
   "execution_count": 21,
   "metadata": {},
   "outputs": [
    {
     "name": "stdout",
     "output_type": "stream",
     "text": [
      "totaalprijs: 675\n"
     ]
    }
   ],
   "source": [
    "sterren = int(input(\"geef aantal sterren (1-5): \"))\n",
    "maaltijd = input(\"geef maaltijd (O,H,V of A): \")\n",
    "aantal_nachten = int(input(\"geef aantal nachten: \"))\n",
    "seizoen = input(\"geef seizoen (H,L of T): \")\n",
    "\n",
    "if sterren == 1:\n",
    "    prijs_per_nacht = 30\n",
    "elif sterren == 2 or sterren == 3:\n",
    "    prijs_per_nacht = 40\n",
    "elif sterren == 4 or sterren == 5:\n",
    "    prijs_per_nacht = 55\n",
    "\n",
    "if maaltijd == \"O\":\n",
    "    prijs_per_nacht = prijs_per_nacht + prijs_per_nacht * 0.2\n",
    "elif maaltijd == \"H\":\n",
    "    prijs_per_nacht = prijs_per_nacht + prijs_per_nacht * 0.5\n",
    "elif maaltijd == \"V\":\n",
    "    prijs_per_nacht = prijs_per_nacht + prijs_per_nacht * 0.6\n",
    "elif maaltijd == \"A\":\n",
    "    prijs_per_nacht += 80\n",
    "if seizoen == \"L\" or maaltijd == \"O\" or maaltijd == \"H\":\n",
    "    prijs_per_nacht = prijs_per_nacht * 0.9\n",
    "totaalprijs = prijs_per_nacht * aantal_nachten\n",
    "print(\"totaalprijs:\", totaalprijs)\n"
   ]
  }
 ],
 "metadata": {
  "kernelspec": {
   "display_name": "Python 3",
   "language": "python",
   "name": "python3"
  },
  "language_info": {
   "codemirror_mode": {
    "name": "ipython",
    "version": 3
   },
   "file_extension": ".py",
   "mimetype": "text/x-python",
   "name": "python",
   "nbconvert_exporter": "python",
   "pygments_lexer": "ipython3",
   "version": "3.12.3"
  }
 },
 "nbformat": 4,
 "nbformat_minor": 1
}
