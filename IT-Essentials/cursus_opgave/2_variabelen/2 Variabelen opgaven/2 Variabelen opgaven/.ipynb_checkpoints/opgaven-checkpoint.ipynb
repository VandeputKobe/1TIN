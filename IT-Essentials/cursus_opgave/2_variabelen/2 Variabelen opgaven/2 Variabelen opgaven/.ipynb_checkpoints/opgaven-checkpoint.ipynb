{
 "cells": [
  {
   "cell_type": "markdown",
   "metadata": {},
   "source": [
    "# Oefeningen hoofdstuk 2: Variabelen"
   ]
  },
  {
   "cell_type": "markdown",
   "metadata": {},
   "source": [
    "**Oefening 2.1**\n",
    "Definieer drie variabelen `var1`, `var2` en `var3`. Vraag de gebruiker voor input van 3 gehele getallen voor de\n",
    "3 variabelen. Bereken het gemiddelde en\n",
    "stop het in een variabele `gemiddelde`. Toon het gemiddelde."
   ]
  },
  {
   "cell_type": "code",
   "execution_count": 5,
   "metadata": {},
   "outputs": [
    {
     "name": "stdout",
     "output_type": "stream",
     "text": [
      "Het gemiddelde is 1.0\n"
     ]
    }
   ],
   "source": [
    "var1 = int(input(\"Geef een getal: \"))\n",
    "var2 = int(input(\"Geef nog een getal: \"))\n",
    "var3 = int(input(\"Geef nog een getal: \"))\n",
    "gemiddelde = (var1 + var2 + var3) / 3\n",
    "print(\"Het gemiddelde is\", gemiddelde)"
   ]
  },
  {
   "cell_type": "markdown",
   "metadata": {},
   "source": [
    "**Oefening 2.2**\n",
    "De toegangsprijs voor een dierentuin bedraagt 11 euro voor volwassenen en 6 euro voor kinderen onder de 12 jaar. Maak een programma dat het aantal volwassenen en kinderen inleest via toetsenbord en dat de totale prijs berekent en afdrukt."
   ]
  },
  {
   "cell_type": "code",
   "execution_count": null,
   "metadata": {},
   "outputs": [],
   "source": [
    "prijs_volwassenen = 11\n",
    "prijs_kinderen = 6\n",
    "aantal_volwassenen = int(input(\"Aantal volwassenen: \"))\n",
    "aantal_kinderen = int(input(\"Aantal kinderen: \"))\n",
    "totaal = (prijs_volwassenen * aantal_volwassenen) + (prijs_kinderen * aantal_kinderen)\n",
    "print(\"De totale prijs is\", totaal, \"euro\")"
   ]
  },
  {
   "cell_type": "markdown",
   "metadata": {},
   "source": [
    "**Oefening 2.3**\n",
    "Voer je lengte (in m) en gewicht (in kg) in via het toetsenbord.  Bereken je BMI en druk af.  Je BMI wordt als volgt berekend: $gewicht / (lengte \\times lengte)$."
   ]
  },
  {
   "cell_type": "code",
   "execution_count": null,
   "metadata": {},
   "outputs": [],
   "source": [
    "lengte = int(input(\"geef je lengte: \"))\n",
    "gewicht = int(input(\"geef je gewicht: \"))\n",
    "bmi = gewicht/(lengte * lengte)\n",
    "print(\"je bmi is\", bmi)"
   ]
  },
  {
   "cell_type": "markdown",
   "metadata": {},
   "source": [
    "**Oefening 2.4**\n",
    "U geeft via het toetsenbord het aantal graden Celsius in. De computer berekent het aantal graden Fahrenheit. Dit aantal wordt op het scherm afgedrukt. De formule hiertoe luidt: $F=(9/5)C+32$."
   ]
  },
  {
   "cell_type": "code",
   "execution_count": null,
   "metadata": {},
   "outputs": [],
   "source": [
    "graden = float(input(\"geef het aantal graden: \"))\n",
    "fahrenheit = (9/5)* graden + 32\n",
    "print(\"aantal Fahrenheit = \", fahrenheit)"
   ]
  },
  {
   "cell_type": "markdown",
   "metadata": {},
   "source": [
    "**Oefening 2.5**\n",
    "U geeft via het toetsenbord het aantal graden Fahrenheit in en de computer berekent het aantal graden Celsius, afgerond op 1 decimaal na de komma. Dit aantal wordt afgedrukt."
   ]
  },
  {
   "cell_type": "code",
   "execution_count": null,
   "metadata": {},
   "outputs": [],
   "source": [
    "fahrenheit = float(input(\"geef het aantal Fahrenheit: \"))\n",
    "graden = (5/9) * (fahrenheit - 32)\n",
    "graden = round(graden, 1)\n",
    "print(\"aantal graden = \", graden)"
   ]
  },
  {
   "cell_type": "markdown",
   "metadata": {},
   "source": [
    "**Oefening 2.6** Schrijf code die de oppervlakte van een cirkel berekent, gebruik makend\n",
    "van variabelen straal en `pi = 3.14159`. Voor het geval je het vergeten bent, de formule is\n",
    "$straal \\times straal \\times \\pi$. \n",
    "Toon de uitkomst als volgt: “De oppervlakte van een cirkel met straal ... is ...”."
   ]
  },
  {
   "cell_type": "code",
   "execution_count": null,
   "metadata": {},
   "outputs": [],
   "source": [
    "straal = float(input(\"Geef de straal van de cirkel: \"))\n",
    "pi = 3.14159\n",
    "oppervlakte = pi * straal * straal\n",
    "print(\"de oppervlakte van een circkel met straal\", straal, \"is\", oppervlakte)"
   ]
  },
  {
   "cell_type": "markdown",
   "metadata": {},
   "source": [
    "**Oefening 2.7** Schrijf een programma dat de kosten berekent voor het plaatsen van kamerbreed tapijt. De gebruiker van het programma geeft de lengte en breedte van het tapijt in (uitgedrukt in meter), de prijs per m2 en de plaatsingskosten per m2 in. Als resultaat moet de kostprijs van het tapijt, de plaatsingskosten en de totale kosten afgedrukt worden."
   ]
  },
  {
   "cell_type": "code",
   "execution_count": null,
   "metadata": {},
   "outputs": [],
   "source": [
    "lengte = float(input(\"Geef de lengte in m: \"))\n",
    "breedte = float(input(\"Geef de breedte in m: \"))\n",
    "prijs_per_m2 = float(input(\"Geef de prijs per m2 in euro: \"))\n",
    "plaatsingkosten_per_m2 = float(input(\"Geef de plaatsingskosten per m2 in euro: \"))\n",
    "kostprijs_tapijt = (lengte * breedte) * prijs_per_m2\n",
    "plaatsingskosten = (lengte * breedte) * plaatsingkosten_per_m2\n",
    "totaal = kostprijs_tapijt + plaatsingskosten\n",
    "print(\"de prijs van het tapijt is\", kostprijs_tapijt)\n",
    "print(\"de plaatsingskosten zijn\", plaatsingskosten)\n",
    "print(\"de totaalprijs is\", totaal) "
   ]
  },
  {
   "cell_type": "markdown",
   "metadata": {},
   "source": [
    "**Oefening 2.8**\n",
    "Wat kost mijn auto? Prijsbewuste personen willen weten hoeveel hun auto echt kost.\n",
    "Achtereenvolgens wordt ingevoerd:\n",
    "+ aantal afgelegde km per jaar (afgelegde_km)\n",
    "+ verbruik in l per 100 km (verbruik)\n",
    "+ prijs van 1 l brandstof (prijs_per_liter)\n",
    "\n",
    "Als uitvoer wordt verwacht:\n",
    "+ de totale kosten per jaar voor het opgegeven aantal km\n",
    "+ de kostprijs per km rijden."
   ]
  },
  {
   "cell_type": "code",
   "execution_count": null,
   "metadata": {},
   "outputs": [],
   "source": [
    "afgelede_km = float(input(\"Geef het aantal afgelegde kilometers: \"))\n",
    "aantal_liters_per_100km = float(input(\"Geef het aantal liters brandstof dat verbruikt is: \"))\n",
    "prijs_van_brandstof_per_liter = float(input(\"Geef de prijs van de brandstof per liter: \"))\n",
    "\n",
    "totale_kosten =  (aantal_liters_per_100km / 100) * afgelede_km * prijs_van_brandstof_per_liter\n",
    "print(\"De totale kosten van het jaar zijn\", totale_kosten, \"euro\")\n",
    "\n",
    "prijs_per_km = (aantal_liters_per_100km / 100) * prijs_van_brandstof_per_liter\n",
    "print(\"De prijs per kilometer is\", prijs_per_km, \"euro\")1\n"
   ]
  },
  {
   "cell_type": "markdown",
   "metadata": {},
   "source": [
    "**Oefening 2.9** Schrijf code die een hoeveelheid centen (opgeslagen in een variabele met\n",
    "de naam bedrag) classificeert als een combinatie van grotere geldstukken. Je code gebruikt 2 euro's (200 centen),\n",
    "euro's (100 centen), 50 centen, 20 centen, 10 centen, 5 centen, 12 centen en centen (1 cent).\n",
    "Het resultaat is dat je het bedrag\n",
    "uitdrukt in het minimale aantal muntjes dat nodig is.\n",
    "\n",
    "Voorbeeld: 359 centen = 1 $\\times$ 2 euro, 1 $\\times$ 1 euro, 1 $\\times$ 50 cent, 0 $\\times$ 20 cent, 0 $\\times$ 10 cent, 1 $\\times$ 5 cent, 2 $\\times$ 2 cent en 0 $\\times$ 1 cent."
   ]
  },
  {
   "cell_type": "code",
   "execution_count": null,
   "metadata": {},
   "outputs": [],
   "source": [
    "hoeveelheid_centen = int(input(\"Geef een hoeveelheid in centen: \"))\n",
    "print(\"De hoeveelheid is\", hoeveelheid_centen, \"centen\")\n",
    "\n",
    "aantal_2_euro_stukken = hoeveelheid_centen // 200\n",
    "hoeveelheid_centen = hoeveelheid_centen % 200\n",
    "\n",
    "aantal_1_euro_stukken = hoeveelheid_centen // 100\n",
    "hoeveelheid_centen = hoeveelheid_centen % 100\n",
    "\n",
    "aantal_50_cent_stukken = hoeveelheid_centen // 50\n",
    "hoeveelheid_centen = hoeveelheid_centen % 50\n",
    "\n",
    "aantal_20_cent_stukken = hoeveelheid_centen // 20\n",
    "hoeveelheid_centen = hoeveelheid_centen % 20\n",
    "\n",
    "aantal_10_cent_stukken = hoeveelheid_centen // 10\n",
    "hoeveelheid_centen = hoeveelheid_centen % 10\n",
    "\n",
    "aantal_5_cent_stukken = hoeveelheid_centen // 5\n",
    "hoeveelheid_centen = hoeveelheid_centen % 5\n",
    "\n",
    "aantal_2_cent_stukken = hoeveelheid_centen // 2\n",
    "hoeveelheid_centen = hoeveelheid_centen % 2\n",
    "\n",
    "aantal_1_cent_stukken = hoeveelheid_centen // 1\n",
    "hoeveelheid_centen = hoeveelheid_centen % 1\n",
    "\n",
    "totaal_aantal_stukken = (aantal_2_euro_stukken + aantal_1_euro_stukken + aantal_50_cent_stukken +\n",
    "                          aantal_20_cent_stukken + aantal_10_cent_stukken + aantal_5_cent_stukken +\n",
    "                          aantal_2_cent_stukken + aantal_1_cent_stukken)\n",
    "\n",
    "print(\"Aantal 2 euro stukken:\", aantal_2_euro_stukken)\n",
    "print(\"Aantal 1 euro stukken:\", aantal_1_euro_stukken)\n",
    "print(\"Aantal 50 cent stukken:\", aantal_50_cent_stukken)\n",
    "print(\"Aantal 20 cent stukken:\", aantal_20_cent_stukken)\n",
    "print(\"Aantal 10 cent stukken:\", aantal_10_cent_stukken)\n",
    "print(\"Aantal 5 cent stukken:\", aantal_5_cent_stukken)\n",
    "print(\"Aantal 2 cent stukken:\", aantal_2_cent_stukken)\n",
    "print(\"Aantal 1 cent stukken:\", aantal_1_cent_stukken)\n",
    "print(\"Totaal aantal stukken:\", totaal_aantal_stukken)"
   ]
  },
  {
   "cell_type": "code",
   "execution_count": null,
   "metadata": {},
   "outputs": [],
   "source": [
    "aantal_centen = int(input(\"Geef een hoeveelheid in centen: \"))\n",
    "                    \n",
    "munten = [200, 100, 50, 20, 10, 5, 2, 1]\n",
    "aantal_stukken = []\n",
    "\n",
    "for i in munten:\n",
    "    aantal = aantal_centen // i\n",
    "    aantal_stukken.append(aantal)\n",
    "    aantal_centen = aantal_centen % i\n",
    "\n",
    "totaal_aantal_stukken = sum(aantal_stukken)\n",
    "print(aantal_stukken)\n",
    "print(\"Totaal aantal stukken:\", totaal_aantal_stukken)\n"
   ]
  },
  {
   "cell_type": "markdown",
   "metadata": {},
   "source": [
    "**Oefening 2.10** Kun je een manier bedenken om de inhoud van twee numerieke variabelen\n",
    "om te wisselen zonder daarbij gebruik te maken van een derde hulp-variabele?"
   ]
  },
  {
   "cell_type": "code",
   "execution_count": null,
   "metadata": {},
   "outputs": [],
   "source": [
    "getal1 = int(input(\"Geef een getal: \"))\n",
    "getal2 = int(input(\"Geef nog een getal: \"))\n",
    "\n",
    "print(\"Voor het verwisselen is het eerste getal:\", getal1)\n",
    "print(\"Voor het verwisselen is het tweede getal:\", getal2)\n",
    "\n",
    "getal1 += getal2\n",
    "getal2 -= getal1\n",
    "getal2 = -getal2\n",
    "getal1 -= getal2\n",
    "print(\"Na het verwisselen is het eerste getal:\", getal1)\n",
    "print(\"Na het verwisselen is het tweede getal:\", getal2)"
   ]
  }
 ],
 "metadata": {
  "kernelspec": {
   "display_name": "Python 3",
   "language": "python",
   "name": "python3"
  },
  "language_info": {
   "codemirror_mode": {
    "name": "ipython",
    "version": 3
   },
   "file_extension": ".py",
   "mimetype": "text/x-python",
   "name": "python",
   "nbconvert_exporter": "python",
   "pygments_lexer": "ipython3",
   "version": "3.12.3"
  }
 },
 "nbformat": 4,
 "nbformat_minor": 1
}
