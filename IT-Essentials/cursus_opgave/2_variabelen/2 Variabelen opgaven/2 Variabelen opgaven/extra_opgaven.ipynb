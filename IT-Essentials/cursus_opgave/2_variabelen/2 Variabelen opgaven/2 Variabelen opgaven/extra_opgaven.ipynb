{
 "cells": [
  {
   "cell_type": "markdown",
   "metadata": {},
   "source": [
    "# Extra oefeningen hoofdstuk 2: Variabelen"
   ]
  },
  {
   "cell_type": "markdown",
   "metadata": {},
   "source": [
    "**Oefening 2.1**\n",
    "\n",
    "Een telefoonmaatschappij rekent aan haar klanten tweemaandelijks een vast bedrag van 20 euro (aansluiting, huur, onderhoud). Een telefoongesprek binnen België kost 12 eurocent (ongeacht de duur van het gesprek), een telefoongesprek naar het buitenland kost 50 eurocent per begonnen minuut. In deze tarieven is geen BTW inbegrepen.\n",
    "Je geeft via het toetsenbord het aantal Belgische gesprekken op en het aantal minuten dat er naar het buitenland getelefoneerd werd in de afgelopen maand. Het programma berekent hoeveel je moet betalen voor de afgelopen maand. Het BTW-percentage is 21%.\n"
   ]
  },
  {
   "cell_type": "markdown",
   "metadata": {},
   "source": [
    "<pre>\n",
    "Geef het aantal Belgische gesprekken: <span style=\"color:blue\">55</span>\n",
    "Geef het aantal minuten dat je naar het buitenland telefoneerde: <span style=\"color:blue\">17</span>\n",
    "Te betalen = 30.371000000000002 euro\n",
    "</pre>"
   ]
  },
  {
   "cell_type": "markdown",
   "metadata": {},
   "source": [
    "**Oefening 2.2**\n",
    "\n",
    "De diameter van een fietswiel wordt meestal opgegeven in inches (1 inch=0,0254 m). Bepaal de omwenteling van een wiel in meters uitgedrukt, bij een opgegeven diameter in inches, en druk het bekomen resultaat af.\n",
    "Voorbeeld:\n",
    "+ diameter van een wiel: 16 inches\n",
    "+ afgelegde weg van een omwenteling: $16 \\times 3,14$\n",
    "+ afgelegde weg uitgedrukt in m: $16 \\times 3,14 \\times 0,0254$"
   ]
  },
  {
   "cell_type": "markdown",
   "metadata": {},
   "source": [
    "Geef de diameter van je wiel in (inches): <span style=\"color:blue\">28\n",
    "De afgelegde weg van een omwenteling in inches is <span style=\"color:blue\">87.96452\n",
    "De afgelegde weg van een omwenteling in meters is 2.2342988079999997"
   ]
  },
  {
   "cell_type": "markdown",
   "metadata": {},
   "source": [
    "**Oefening 2.3**\n",
    "\n",
    "Hoeveel omwentelingen zal een wiel moeten maken om een opgegeven aantal m af te leggen. De diameter van het fietswiel wordt in inches opgegeven (zie vorige opgave).\n",
    "Volgende gegevens worden ingelezen: diameter fietswiel en de af te leggen afstand."
   ]
  },
  {
   "cell_type": "markdown",
   "metadata": {},
   "source": [
    "Geef de diameter van je fietswiel (inches): 28\n",
    "Geef de afstand die je wil afleggen (m): 2500\n",
    "Het aantal omwentelingen dat je wiel moet maken om 2500.0 meter af te leggen is 1118.9192739344649"
   ]
  }
 ],
 "metadata": {
  "kernelspec": {
   "display_name": "Python 3 (ipykernel)",
   "language": "python",
   "name": "python3"
  },
  "language_info": {
   "codemirror_mode": {
    "name": "ipython",
    "version": 3
   },
   "file_extension": ".py",
   "mimetype": "text/x-python",
   "name": "python",
   "nbconvert_exporter": "python",
   "pygments_lexer": "ipython3",
   "version": "3.11.4"
  }
 },
 "nbformat": 4,
 "nbformat_minor": 1
}
